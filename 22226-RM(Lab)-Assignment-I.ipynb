{
 "cells": [
  {
   "cell_type": "markdown",
   "id": "427a9603",
   "metadata": {},
   "source": [
    "## Name: A Aditya Bhardwaj\n",
    "### Reg.No. : 22226"
   ]
  },
  {
   "cell_type": "markdown",
   "id": "69d02f3b",
   "metadata": {},
   "source": [
    "### <Center> Regression Methods (Lab) Assignment-I"
   ]
  },
  {
   "cell_type": "markdown",
   "id": "51f01985",
   "metadata": {},
   "source": [
    "### Basic Arithmetic Operations"
   ]
  },
  {
   "cell_type": "code",
   "execution_count": 30,
   "id": "05e7202e",
   "metadata": {},
   "outputs": [
    {
     "data": {
      "text/html": [
       "'Add: 5'"
      ],
      "text/latex": [
       "'Add: 5'"
      ],
      "text/markdown": [
       "'Add: 5'"
      ],
      "text/plain": [
       "[1] \"Add: 5\""
      ]
     },
     "metadata": {},
     "output_type": "display_data"
    }
   ],
   "source": [
    "a<-2\n",
    "b<-3\n",
    "\n",
    "sprintf(\"Add: %d\",a+b)"
   ]
  },
  {
   "cell_type": "code",
   "execution_count": 31,
   "id": "800e5ec0",
   "metadata": {},
   "outputs": [
    {
     "data": {
      "text/html": [
       "'sub: -1'"
      ],
      "text/latex": [
       "'sub: -1'"
      ],
      "text/markdown": [
       "'sub: -1'"
      ],
      "text/plain": [
       "[1] \"sub: -1\""
      ]
     },
     "metadata": {},
     "output_type": "display_data"
    }
   ],
   "source": [
    "sprintf(\"sub: %d\",a-b)"
   ]
  },
  {
   "cell_type": "code",
   "execution_count": 32,
   "id": "59748188",
   "metadata": {},
   "outputs": [
    {
     "data": {
      "text/html": [
       "'mul:- 6'"
      ],
      "text/latex": [
       "'mul:- 6'"
      ],
      "text/markdown": [
       "'mul:- 6'"
      ],
      "text/plain": [
       "[1] \"mul:- 6\""
      ]
     },
     "metadata": {},
     "output_type": "display_data"
    }
   ],
   "source": [
    "sprintf(\"mul:- %d\",a*b)"
   ]
  },
  {
   "cell_type": "code",
   "execution_count": 33,
   "id": "6b5ddb09",
   "metadata": {},
   "outputs": [
    {
     "data": {
      "text/html": [
       "'div:- 1.500000'"
      ],
      "text/latex": [
       "'div:- 1.500000'"
      ],
      "text/markdown": [
       "'div:- 1.500000'"
      ],
      "text/plain": [
       "[1] \"div:- 1.500000\""
      ]
     },
     "metadata": {},
     "output_type": "display_data"
    }
   ],
   "source": [
    "sprintf(\"div:- %f\",b/a)"
   ]
  },
  {
   "cell_type": "code",
   "execution_count": 34,
   "id": "faf8aa13",
   "metadata": {},
   "outputs": [
    {
     "data": {
      "text/html": [
       "'power:- 8'"
      ],
      "text/latex": [
       "'power:- 8'"
      ],
      "text/markdown": [
       "'power:- 8'"
      ],
      "text/plain": [
       "[1] \"power:- 8\""
      ]
     },
     "metadata": {},
     "output_type": "display_data"
    }
   ],
   "source": [
    "sprintf(\"power:- %d\",a^b)"
   ]
  },
  {
   "cell_type": "code",
   "execution_count": 35,
   "id": "cb8299bb",
   "metadata": {},
   "outputs": [
    {
     "data": {
      "text/html": [
       "'modulus:- 2'"
      ],
      "text/latex": [
       "'modulus:- 2'"
      ],
      "text/markdown": [
       "'modulus:- 2'"
      ],
      "text/plain": [
       "[1] \"modulus:- 2\""
      ]
     },
     "metadata": {},
     "output_type": "display_data"
    }
   ],
   "source": [
    "sprintf(\"modulus:- %d\",a%%b)"
   ]
  },
  {
   "cell_type": "code",
   "execution_count": 36,
   "id": "02fd82ac",
   "metadata": {},
   "outputs": [
    {
     "data": {
      "text/html": [
       "'Integer Division:- 0'"
      ],
      "text/latex": [
       "'Integer Division:- 0'"
      ],
      "text/markdown": [
       "'Integer Division:- 0'"
      ],
      "text/plain": [
       "[1] \"Integer Division:- 0\""
      ]
     },
     "metadata": {},
     "output_type": "display_data"
    }
   ],
   "source": [
    "sprintf(\"Integer Division:- %d\",a%/%b)"
   ]
  },
  {
   "cell_type": "markdown",
   "id": "112c3cd1",
   "metadata": {},
   "source": [
    "### Comparison Operations"
   ]
  },
  {
   "cell_type": "code",
   "execution_count": 39,
   "id": "17fb04b6",
   "metadata": {},
   "outputs": [
    {
     "name": "stdout",
     "output_type": "stream",
     "text": [
      "[1] \"both variables are equal\"\n"
     ]
    }
   ],
   "source": [
    "a<-1\n",
    "b<-1\n",
    "if(a==b){\n",
    "    print(\"both variables are equal\")\n",
    "}else{\n",
    "    print(\"both variables are not equal\")\n",
    "}"
   ]
  },
  {
   "cell_type": "code",
   "execution_count": 40,
   "id": "28ca28b5",
   "metadata": {},
   "outputs": [
    {
     "name": "stdout",
     "output_type": "stream",
     "text": [
      "[1] \"both variables are not equal\"\n"
     ]
    }
   ],
   "source": [
    "a<-3\n",
    "b<-4\n",
    "if(a!=b){\n",
    "    print(\"both variables are not equal\")\n",
    "}else{\n",
    "    print(\"both variables are equal\")\n",
    "}"
   ]
  },
  {
   "cell_type": "code",
   "execution_count": 43,
   "id": "21aa2f67",
   "metadata": {},
   "outputs": [
    {
     "name": "stdout",
     "output_type": "stream",
     "text": [
      "[1] 8\n"
     ]
    }
   ],
   "source": [
    "a<-8\n",
    "if(a>=6){\n",
    "    print(a)\n",
    "}"
   ]
  },
  {
   "cell_type": "code",
   "execution_count": 46,
   "id": "bfb58f37",
   "metadata": {},
   "outputs": [
    {
     "name": "stdout",
     "output_type": "stream",
     "text": [
      "[1] \"b is greater than a\"\n"
     ]
    }
   ],
   "source": [
    "b<-100\n",
    "if(a<b){\n",
    "    print(\"b is greater than a\")\n",
    "}"
   ]
  },
  {
   "cell_type": "code",
   "execution_count": 47,
   "id": "87e87fd8",
   "metadata": {},
   "outputs": [
    {
     "name": "stdout",
     "output_type": "stream",
     "text": [
      "[1] TRUE\n"
     ]
    }
   ],
   "source": [
    "if(b>=7){\n",
    "    print(TRUE)\n",
    "}"
   ]
  },
  {
   "cell_type": "markdown",
   "id": "6f05a5d2",
   "metadata": {},
   "source": [
    "### Vectors"
   ]
  },
  {
   "cell_type": "code",
   "execution_count": 1,
   "id": "a9286e33",
   "metadata": {},
   "outputs": [
    {
     "name": "stdout",
     "output_type": "stream",
     "text": [
      "[1] \"hello\" \"world\"\n"
     ]
    }
   ],
   "source": [
    "abd<-c(\"hello\",\"world\")\n",
    "print(abd)"
   ]
  },
  {
   "cell_type": "code",
   "execution_count": 4,
   "id": "b9f1cb2c",
   "metadata": {},
   "outputs": [
    {
     "name": "stdout",
     "output_type": "stream",
     "text": [
      "hello world"
     ]
    }
   ],
   "source": [
    "# Concatinating two vectors\n",
    "xa<-c('hello')\n",
    "xb<-c('world')\n",
    "cat(xa,xb)"
   ]
  },
  {
   "cell_type": "code",
   "execution_count": 5,
   "id": "85e4d2dd",
   "metadata": {},
   "outputs": [
    {
     "name": "stdout",
     "output_type": "stream",
     "text": [
      "[1] 5 7 9\n"
     ]
    }
   ],
   "source": [
    "# Operations on vectors\n",
    "#adding corresponding elements in two vectors\n",
    "a<-c(1,2,3)\n",
    "b<-c(4,5,6)\n",
    "c<-a+b\n",
    "print(c)"
   ]
  },
  {
   "cell_type": "code",
   "execution_count": 6,
   "id": "19490dd2",
   "metadata": {},
   "outputs": [
    {
     "name": "stdout",
     "output_type": "stream",
     "text": [
      "[1] \"numeric\"\n"
     ]
    }
   ],
   "source": [
    "print(class(c)) #shows the data type of the variable"
   ]
  },
  {
   "cell_type": "code",
   "execution_count": 7,
   "id": "66bf4704",
   "metadata": {},
   "outputs": [
    {
     "data": {
      "text/html": [
       "<style>\n",
       ".list-inline {list-style: none; margin:0; padding: 0}\n",
       ".list-inline>li {display: inline-block}\n",
       ".list-inline>li:not(:last-child)::after {content: \"\\00b7\"; padding: 0 .5ex}\n",
       "</style>\n",
       "<ol class=list-inline><li>4</li><li>10</li><li>18</li></ol>\n"
      ],
      "text/latex": [
       "\\begin{enumerate*}\n",
       "\\item 4\n",
       "\\item 10\n",
       "\\item 18\n",
       "\\end{enumerate*}\n"
      ],
      "text/markdown": [
       "1. 4\n",
       "2. 10\n",
       "3. 18\n",
       "\n",
       "\n"
      ],
      "text/plain": [
       "[1]  4 10 18"
      ]
     },
     "metadata": {},
     "output_type": "display_data"
    }
   ],
   "source": [
    "#multiplying corresponding elements in two vectors\n",
    "a<-c(1,2,3)\n",
    "b<-c(4,5,6)\n",
    "c<-a*b\n",
    "c"
   ]
  },
  {
   "cell_type": "code",
   "execution_count": 8,
   "id": "5c52ce52",
   "metadata": {},
   "outputs": [
    {
     "data": {
      "text/html": [
       "<style>\n",
       ".list-inline {list-style: none; margin:0; padding: 0}\n",
       ".list-inline>li {display: inline-block}\n",
       ".list-inline>li:not(:last-child)::after {content: \"\\00b7\"; padding: 0 .5ex}\n",
       "</style>\n",
       "<ol class=list-inline><li>-3</li><li>-3</li><li>-3</li></ol>\n"
      ],
      "text/latex": [
       "\\begin{enumerate*}\n",
       "\\item -3\n",
       "\\item -3\n",
       "\\item -3\n",
       "\\end{enumerate*}\n"
      ],
      "text/markdown": [
       "1. -3\n",
       "2. -3\n",
       "3. -3\n",
       "\n",
       "\n"
      ],
      "text/plain": [
       "[1] -3 -3 -3"
      ]
     },
     "metadata": {},
     "output_type": "display_data"
    }
   ],
   "source": [
    "#subtracting corresponding elements in two vectors\n",
    "a<-c(1,2,3)\n",
    "b<-c(4,5,6)\n",
    "c<-a-b\n",
    "c"
   ]
  },
  {
   "cell_type": "code",
   "execution_count": 9,
   "id": "f51d0f83",
   "metadata": {},
   "outputs": [
    {
     "data": {
      "text/html": [
       "<style>\n",
       ".list-inline {list-style: none; margin:0; padding: 0}\n",
       ".list-inline>li {display: inline-block}\n",
       ".list-inline>li:not(:last-child)::after {content: \"\\00b7\"; padding: 0 .5ex}\n",
       "</style>\n",
       "<ol class=list-inline><li>0.25</li><li>0.4</li><li>0.5</li></ol>\n"
      ],
      "text/latex": [
       "\\begin{enumerate*}\n",
       "\\item 0.25\n",
       "\\item 0.4\n",
       "\\item 0.5\n",
       "\\end{enumerate*}\n"
      ],
      "text/markdown": [
       "1. 0.25\n",
       "2. 0.4\n",
       "3. 0.5\n",
       "\n",
       "\n"
      ],
      "text/plain": [
       "[1] 0.25 0.40 0.50"
      ]
     },
     "metadata": {},
     "output_type": "display_data"
    }
   ],
   "source": [
    "#dividing corresponding elements in two vectors\n",
    "a<-c(1,2,3)\n",
    "b<-c(4,5,6)\n",
    "c<-a/b\n",
    "c"
   ]
  },
  {
   "cell_type": "markdown",
   "id": "4bfa9a9f",
   "metadata": {},
   "source": [
    "### Lists"
   ]
  },
  {
   "cell_type": "code",
   "execution_count": 10,
   "id": "fbc93b75",
   "metadata": {},
   "outputs": [
    {
     "name": "stdout",
     "output_type": "stream",
     "text": [
      "[[1]]\n",
      "[1] 1 2 3 4 5\n",
      "\n"
     ]
    }
   ],
   "source": [
    "mysub<-list(c(1,2,3,4,5))\n",
    "print(mysub)"
   ]
  },
  {
   "cell_type": "code",
   "execution_count": 11,
   "id": "04cded9e",
   "metadata": {},
   "outputs": [
    {
     "name": "stdout",
     "output_type": "stream",
     "text": [
      "[1] \"list\"\n"
     ]
    }
   ],
   "source": [
    "print(class(mysub))"
   ]
  },
  {
   "cell_type": "code",
   "execution_count": 12,
   "id": "ef6a754a",
   "metadata": {},
   "outputs": [
    {
     "data": {
      "text/html": [
       "<ol>\n",
       "\t<li>1</li>\n",
       "\t<li>2</li>\n",
       "\t<li>3</li>\n",
       "\t<li>5</li>\n",
       "\t<li>6</li>\n",
       "\t<li>7</li>\n",
       "</ol>\n"
      ],
      "text/latex": [
       "\\begin{enumerate}\n",
       "\\item 1\n",
       "\\item 2\n",
       "\\item 3\n",
       "\\item 5\n",
       "\\item 6\n",
       "\\item 7\n",
       "\\end{enumerate}\n"
      ],
      "text/markdown": [
       "1. 1\n",
       "2. 2\n",
       "3. 3\n",
       "4. 5\n",
       "5. 6\n",
       "6. 7\n",
       "\n",
       "\n"
      ],
      "text/plain": [
       "[[1]]\n",
       "[1] 1\n",
       "\n",
       "[[2]]\n",
       "[1] 2\n",
       "\n",
       "[[3]]\n",
       "[1] 3\n",
       "\n",
       "[[4]]\n",
       "[1] 5\n",
       "\n",
       "[[5]]\n",
       "[1] 6\n",
       "\n",
       "[[6]]\n",
       "[1] 7\n"
      ]
     },
     "metadata": {},
     "output_type": "display_data"
    }
   ],
   "source": [
    "#Appending two lists\n",
    "a<-list(1,2,3)\n",
    "b<-list(5,6,7)\n",
    "z<-append(a,b)\n",
    "z"
   ]
  },
  {
   "cell_type": "markdown",
   "id": "aa5995ca",
   "metadata": {},
   "source": [
    "### Matrices"
   ]
  },
  {
   "cell_type": "code",
   "execution_count": 16,
   "id": "fbec8afb",
   "metadata": {},
   "outputs": [
    {
     "data": {
      "text/html": [
       "<table class=\"dataframe\">\n",
       "<caption>A matrix: 2 × 4 of type lgl</caption>\n",
       "<tbody>\n",
       "\t<tr><td>NA</td><td>NA</td><td>NA</td><td>NA</td></tr>\n",
       "\t<tr><td>NA</td><td>NA</td><td>NA</td><td>NA</td></tr>\n",
       "</tbody>\n",
       "</table>\n"
      ],
      "text/latex": [
       "A matrix: 2 × 4 of type lgl\n",
       "\\begin{tabular}{llll}\n",
       "\t NA & NA & NA & NA\\\\\n",
       "\t NA & NA & NA & NA\\\\\n",
       "\\end{tabular}\n"
      ],
      "text/markdown": [
       "\n",
       "A matrix: 2 × 4 of type lgl\n",
       "\n",
       "| NA | NA | NA | NA |\n",
       "| NA | NA | NA | NA |\n",
       "\n"
      ],
      "text/plain": [
       "     [,1] [,2] [,3] [,4]\n",
       "[1,] NA   NA   NA   NA  \n",
       "[2,] NA   NA   NA   NA  "
      ]
     },
     "metadata": {},
     "output_type": "display_data"
    }
   ],
   "source": [
    "m <- matrix(nrow = 2, ncol = 4)\n",
    "m"
   ]
  },
  {
   "cell_type": "code",
   "execution_count": 18,
   "id": "8562b148",
   "metadata": {},
   "outputs": [
    {
     "data": {
      "text/html": [
       "<table class=\"dataframe\">\n",
       "<caption>A matrix: 2 × 4 of type int</caption>\n",
       "<tbody>\n",
       "\t<tr><td>1</td><td>3</td><td>5</td><td>7</td></tr>\n",
       "\t<tr><td>2</td><td>4</td><td>6</td><td>8</td></tr>\n",
       "</tbody>\n",
       "</table>\n"
      ],
      "text/latex": [
       "A matrix: 2 × 4 of type int\n",
       "\\begin{tabular}{llll}\n",
       "\t 1 & 3 & 5 & 7\\\\\n",
       "\t 2 & 4 & 6 & 8\\\\\n",
       "\\end{tabular}\n"
      ],
      "text/markdown": [
       "\n",
       "A matrix: 2 × 4 of type int\n",
       "\n",
       "| 1 | 3 | 5 | 7 |\n",
       "| 2 | 4 | 6 | 8 |\n",
       "\n"
      ],
      "text/plain": [
       "     [,1] [,2] [,3] [,4]\n",
       "[1,] 1    3    5    7   \n",
       "[2,] 2    4    6    8   "
      ]
     },
     "metadata": {},
     "output_type": "display_data"
    }
   ],
   "source": [
    "m <- matrix(1:8, nrow = 2, ncol = 4)\n",
    "m"
   ]
  },
  {
   "cell_type": "markdown",
   "id": "4a1ef7ad",
   "metadata": {},
   "source": [
    "### Arrays"
   ]
  },
  {
   "cell_type": "code",
   "execution_count": 21,
   "id": "a8063c35",
   "metadata": {},
   "outputs": [
    {
     "data": {
      "text/html": [
       "<table class=\"dataframe\">\n",
       "<caption>A matrix: 1 × 2 of type chr</caption>\n",
       "<tbody>\n",
       "\t<tr><td>o</td><td>x</td></tr>\n",
       "</tbody>\n",
       "</table>\n"
      ],
      "text/latex": [
       "A matrix: 1 × 2 of type chr\n",
       "\\begin{tabular}{ll}\n",
       "\t o & x\\\\\n",
       "\\end{tabular}\n"
      ],
      "text/markdown": [
       "\n",
       "A matrix: 1 × 2 of type chr\n",
       "\n",
       "| o | x |\n",
       "\n"
      ],
      "text/plain": [
       "     [,1] [,2]\n",
       "[1,] o    x   "
      ]
     },
     "metadata": {},
     "output_type": "display_data"
    }
   ],
   "source": [
    "#printing array elements\n",
    "a <- array(c(\"o\",\"x\"),dim=c(1,2))\n",
    "a"
   ]
  },
  {
   "cell_type": "markdown",
   "id": "344337f5",
   "metadata": {},
   "source": [
    "### Factors"
   ]
  },
  {
   "cell_type": "code",
   "execution_count": 23,
   "id": "4340cc0b",
   "metadata": {},
   "outputs": [
    {
     "data": {
      "text/html": [
       "<style>\n",
       ".list-inline {list-style: none; margin:0; padding: 0}\n",
       ".list-inline>li {display: inline-block}\n",
       ".list-inline>li:not(:last-child)::after {content: \"\\00b7\"; padding: 0 .5ex}\n",
       "</style>\n",
       "<ol class=list-inline><li>Regression Methods</li><li>Machine Learning</li><li>Big Data Annalysis</li><li>Data Engineering</li><li>Multivariate Statistical Annalysis</li></ol>\n",
       "\n",
       "<details>\n",
       "\t<summary style=display:list-item;cursor:pointer>\n",
       "\t\t<strong>Levels</strong>:\n",
       "\t</summary>\n",
       "\t<style>\n",
       "\t.list-inline {list-style: none; margin:0; padding: 0}\n",
       "\t.list-inline>li {display: inline-block}\n",
       "\t.list-inline>li:not(:last-child)::after {content: \"\\00b7\"; padding: 0 .5ex}\n",
       "\t</style>\n",
       "\t<ol class=list-inline><li>'Big Data Annalysis'</li><li>'Data Engineering'</li><li>'Machine Learning'</li><li>'Multivariate Statistical Annalysis'</li><li>'Regression Methods'</li></ol>\n",
       "</details>"
      ],
      "text/latex": [
       "\\begin{enumerate*}\n",
       "\\item Regression Methods\n",
       "\\item Machine Learning\n",
       "\\item Big Data Annalysis\n",
       "\\item Data Engineering\n",
       "\\item Multivariate Statistical Annalysis\n",
       "\\end{enumerate*}\n",
       "\n",
       "\\emph{Levels}: \\begin{enumerate*}\n",
       "\\item 'Big Data Annalysis'\n",
       "\\item 'Data Engineering'\n",
       "\\item 'Machine Learning'\n",
       "\\item 'Multivariate Statistical Annalysis'\n",
       "\\item 'Regression Methods'\n",
       "\\end{enumerate*}\n"
      ],
      "text/markdown": [
       "1. Regression Methods\n",
       "2. Machine Learning\n",
       "3. Big Data Annalysis\n",
       "4. Data Engineering\n",
       "5. Multivariate Statistical Annalysis\n",
       "\n",
       "\n",
       "\n",
       "**Levels**: 1. 'Big Data Annalysis'\n",
       "2. 'Data Engineering'\n",
       "3. 'Machine Learning'\n",
       "4. 'Multivariate Statistical Annalysis'\n",
       "5. 'Regression Methods'\n",
       "\n",
       "\n"
      ],
      "text/plain": [
       "[1] Regression Methods                 Machine Learning                  \n",
       "[3] Big Data Annalysis                 Data Engineering                  \n",
       "[5] Multivariate Statistical Annalysis\n",
       "5 Levels: Big Data Annalysis Data Engineering ... Regression Methods"
      ]
     },
     "metadata": {},
     "output_type": "display_data"
    }
   ],
   "source": [
    "courses<-c('Regression Methods','Machine Learning','Big Data Annalysis','Data Engineering','Multivariate Statistical Annalysis')\n",
    "factor_courses<- factor(courses)\n",
    "factor_courses"
   ]
  },
  {
   "cell_type": "code",
   "execution_count": 24,
   "id": "4a3072bc",
   "metadata": {},
   "outputs": [
    {
     "name": "stdout",
     "output_type": "stream",
     "text": [
      "[1] \"factor\"\n"
     ]
    }
   ],
   "source": [
    "print(class(factor_courses))"
   ]
  },
  {
   "cell_type": "code",
   "execution_count": 25,
   "id": "b00aab85",
   "metadata": {},
   "outputs": [
    {
     "name": "stdout",
     "output_type": "stream",
     "text": [
      "[1] 5\n"
     ]
    }
   ],
   "source": [
    "print(nlevels(factor_courses))"
   ]
  },
  {
   "cell_type": "markdown",
   "id": "e71ae371",
   "metadata": {},
   "source": [
    "### DataFrames"
   ]
  },
  {
   "cell_type": "code",
   "execution_count": 28,
   "id": "4bb4929e",
   "metadata": {},
   "outputs": [
    {
     "data": {
      "text/html": [
       "<table class=\"dataframe\">\n",
       "<caption>A data.frame: 5 × 6</caption>\n",
       "<thead>\n",
       "\t<tr><th scope=col>name</th><th scope=col>height_cm</th><th scope=col>weight_kg</th><th scope=col>age_yrs</th><th scope=col>hund_mtr_sec</th><th scope=col>four_hundr_sec</th></tr>\n",
       "\t<tr><th scope=col>&lt;chr&gt;</th><th scope=col>&lt;dbl&gt;</th><th scope=col>&lt;dbl&gt;</th><th scope=col>&lt;dbl&gt;</th><th scope=col>&lt;dbl&gt;</th><th scope=col>&lt;dbl&gt;</th></tr>\n",
       "</thead>\n",
       "<tbody>\n",
       "\t<tr><td>aditya </td><td>170.0</td><td>75</td><td>22</td><td>12</td><td>40</td></tr>\n",
       "\t<tr><td>kumar  </td><td>169.0</td><td>89</td><td>21</td><td> 9</td><td>37</td></tr>\n",
       "\t<tr><td>satya  </td><td>175.0</td><td>66</td><td>22</td><td>10</td><td>42</td></tr>\n",
       "\t<tr><td>vamsee </td><td>169.5</td><td>89</td><td>21</td><td>14</td><td>39</td></tr>\n",
       "\t<tr><td>hemanth</td><td>173.0</td><td>77</td><td>22</td><td>13</td><td>36</td></tr>\n",
       "</tbody>\n",
       "</table>\n"
      ],
      "text/latex": [
       "A data.frame: 5 × 6\n",
       "\\begin{tabular}{llllll}\n",
       " name & height\\_cm & weight\\_kg & age\\_yrs & hund\\_mtr\\_sec & four\\_hundr\\_sec\\\\\n",
       " <chr> & <dbl> & <dbl> & <dbl> & <dbl> & <dbl>\\\\\n",
       "\\hline\n",
       "\t aditya  & 170.0 & 75 & 22 & 12 & 40\\\\\n",
       "\t kumar   & 169.0 & 89 & 21 &  9 & 37\\\\\n",
       "\t satya   & 175.0 & 66 & 22 & 10 & 42\\\\\n",
       "\t vamsee  & 169.5 & 89 & 21 & 14 & 39\\\\\n",
       "\t hemanth & 173.0 & 77 & 22 & 13 & 36\\\\\n",
       "\\end{tabular}\n"
      ],
      "text/markdown": [
       "\n",
       "A data.frame: 5 × 6\n",
       "\n",
       "| name &lt;chr&gt; | height_cm &lt;dbl&gt; | weight_kg &lt;dbl&gt; | age_yrs &lt;dbl&gt; | hund_mtr_sec &lt;dbl&gt; | four_hundr_sec &lt;dbl&gt; |\n",
       "|---|---|---|---|---|---|\n",
       "| aditya  | 170.0 | 75 | 22 | 12 | 40 |\n",
       "| kumar   | 169.0 | 89 | 21 |  9 | 37 |\n",
       "| satya   | 175.0 | 66 | 22 | 10 | 42 |\n",
       "| vamsee  | 169.5 | 89 | 21 | 14 | 39 |\n",
       "| hemanth | 173.0 | 77 | 22 | 13 | 36 |\n",
       "\n"
      ],
      "text/plain": [
       "  name    height_cm weight_kg age_yrs hund_mtr_sec four_hundr_sec\n",
       "1 aditya  170.0     75        22      12           40            \n",
       "2 kumar   169.0     89        21       9           37            \n",
       "3 satya   175.0     66        22      10           42            \n",
       "4 vamsee  169.5     89        21      14           39            \n",
       "5 hemanth 173.0     77        22      13           36            "
      ]
     },
     "metadata": {},
     "output_type": "display_data"
    }
   ],
   "source": [
    "sports_perf<-data.frame(\n",
    "    name=c('aditya','kumar','satya','vamsee','hemanth'),\n",
    "    height_cm=c(170,169,175,169.5,173),\n",
    "    weight_kg=c(75,89,66,89,77),\n",
    "    age_yrs=c(22,21,22,21,22),\n",
    "    hund_mtr_sec=c(12,9,10,14,13),\n",
    "    four_hundr_sec=c(40,37,42,39,36)\n",
    ")\n",
    "sports_perf"
   ]
  },
  {
   "cell_type": "code",
   "execution_count": null,
   "id": "79ba39be",
   "metadata": {},
   "outputs": [],
   "source": []
  }
 ],
 "metadata": {
  "kernelspec": {
   "display_name": "R",
   "language": "R",
   "name": "ir"
  },
  "language_info": {
   "codemirror_mode": "r",
   "file_extension": ".r",
   "mimetype": "text/x-r-source",
   "name": "R",
   "pygments_lexer": "r",
   "version": "4.2.2"
  }
 },
 "nbformat": 4,
 "nbformat_minor": 5
}
