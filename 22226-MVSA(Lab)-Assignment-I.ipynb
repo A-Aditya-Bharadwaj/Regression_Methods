{
 "cells": [
  {
   "cell_type": "markdown",
   "metadata": {},
   "source": [
    "## Name: A Aditya Bhardwaj\n",
    "### Reg. No : 22226"
   ]
  },
  {
   "cell_type": "markdown",
   "metadata": {},
   "source": [
    "### <center> MDSC-202(Lab)-Assignment-I"
   ]
  },
  {
   "cell_type": "code",
   "execution_count": 3,
   "metadata": {
    "vscode": {
     "languageId": "r"
    }
   },
   "outputs": [
    {
     "data": {
      "text/html": [
       "<table class=\"dataframe\">\n",
       "<caption>A matrix: 2 × 3 of type dbl</caption>\n",
       "<tbody>\n",
       "\t<tr><td>5</td><td>5</td><td>8</td></tr>\n",
       "\t<tr><td>3</td><td>2</td><td>1</td></tr>\n",
       "</tbody>\n",
       "</table>\n"
      ],
      "text/latex": [
       "A matrix: 2 × 3 of type dbl\n",
       "\\begin{tabular}{lll}\n",
       "\t 5 & 5 & 8\\\\\n",
       "\t 3 & 2 & 1\\\\\n",
       "\\end{tabular}\n"
      ],
      "text/markdown": [
       "\n",
       "A matrix: 2 × 3 of type dbl\n",
       "\n",
       "| 5 | 5 | 8 |\n",
       "| 3 | 2 | 1 |\n",
       "\n"
      ],
      "text/plain": [
       "     [,1] [,2] [,3]\n",
       "[1,] 5    5    8   \n",
       "[2,] 3    2    1   "
      ]
     },
     "metadata": {},
     "output_type": "display_data"
    }
   ],
   "source": [
    "# Matrix Structure\n",
    "A <- matrix(data=c(5,3,5,2,8,1),nrow=2,ncol=2+1)\n",
    "A"
   ]
  },
  {
   "cell_type": "code",
   "execution_count": 4,
   "metadata": {
    "vscode": {
     "languageId": "r"
    }
   },
   "outputs": [
    {
     "data": {
      "text/html": [
       "<table class=\"dataframe\">\n",
       "<caption>A matrix: 2 × 4 of type dbl</caption>\n",
       "<tbody>\n",
       "\t<tr><td> 0</td><td> 8</td><td> 5</td><td> 2</td></tr>\n",
       "\t<tr><td>56</td><td>41</td><td>13</td><td>12</td></tr>\n",
       "</tbody>\n",
       "</table>\n"
      ],
      "text/latex": [
       "A matrix: 2 × 4 of type dbl\n",
       "\\begin{tabular}{llll}\n",
       "\t  0 &  8 &  5 &  2\\\\\n",
       "\t 56 & 41 & 13 & 12\\\\\n",
       "\\end{tabular}\n"
      ],
      "text/markdown": [
       "\n",
       "A matrix: 2 × 4 of type dbl\n",
       "\n",
       "|  0 |  8 |  5 |  2 |\n",
       "| 56 | 41 | 13 | 12 |\n",
       "\n"
      ],
      "text/plain": [
       "     [,1] [,2] [,3] [,4]\n",
       "[1,]  0    8    5    2  \n",
       "[2,] 56   41   13   12  "
      ]
     },
     "metadata": {},
     "output_type": "display_data"
    }
   ],
   "source": [
    "# Arrangement by Row\n",
    "B <- matrix(data=c(0,8,5,2,56,41,13,12),nrow=2,ncol=4,byrow=TRUE)\n",
    "B"
   ]
  },
  {
   "cell_type": "code",
   "execution_count": 5,
   "metadata": {},
   "outputs": [
    {
     "name": "stderr",
     "output_type": "stream",
     "text": [
      "Warning message in matrix(data = c(0, 8, 5, 2, 56, 41, 13, 12), nrow = 3, ncol = 2, :\n",
      "\"data length [8] is not a sub-multiple or multiple of the number of rows [3]\"\n"
     ]
    },
    {
     "data": {
      "text/html": [
       "<table class=\"dataframe\">\n",
       "<caption>A matrix: 3 × 2 of type dbl</caption>\n",
       "<tbody>\n",
       "\t<tr><td>0</td><td> 2</td></tr>\n",
       "\t<tr><td>8</td><td>56</td></tr>\n",
       "\t<tr><td>5</td><td>41</td></tr>\n",
       "</tbody>\n",
       "</table>\n"
      ],
      "text/latex": [
       "A matrix: 3 × 2 of type dbl\n",
       "\\begin{tabular}{ll}\n",
       "\t 0 &  2\\\\\n",
       "\t 8 & 56\\\\\n",
       "\t 5 & 41\\\\\n",
       "\\end{tabular}\n"
      ],
      "text/markdown": [
       "\n",
       "A matrix: 3 × 2 of type dbl\n",
       "\n",
       "| 0 |  2 |\n",
       "| 8 | 56 |\n",
       "| 5 | 41 |\n",
       "\n"
      ],
      "text/plain": [
       "     [,1] [,2]\n",
       "[1,] 0     2  \n",
       "[2,] 8    56  \n",
       "[3,] 5    41  "
      ]
     },
     "metadata": {},
     "output_type": "display_data"
    }
   ],
   "source": [
    "# Arrangement by Column\n",
    "B <- matrix(data=c(0,8,5,2,56,41,13,12),nrow=3,ncol=2,byrow=FALSE)\n",
    "B"
   ]
  },
  {
   "cell_type": "code",
   "execution_count": 6,
   "metadata": {},
   "outputs": [
    {
     "name": "stderr",
     "output_type": "stream",
     "text": [
      "Warning message in rbind(-13:31, -14:10):\n",
      "\"number of columns of result is not a multiple of vector length (arg 2)\"\n"
     ]
    },
    {
     "data": {
      "text/html": [
       "<table class=\"dataframe\">\n",
       "<caption>A matrix: 2 × 45 of type int</caption>\n",
       "<tbody>\n",
       "\t<tr><td>-13</td><td>-12</td><td>-11</td><td>-10</td><td> -9</td><td>-8</td><td>-7</td><td>-6</td><td>-5</td><td>-4</td><td>⋯</td><td>22</td><td>23</td><td>24</td><td>25</td><td>26</td><td>27</td><td>28</td><td>29</td><td>30</td><td>31</td></tr>\n",
       "\t<tr><td>-14</td><td>-13</td><td>-12</td><td>-11</td><td>-10</td><td>-9</td><td>-8</td><td>-7</td><td>-6</td><td>-5</td><td>⋯</td><td>-4</td><td>-3</td><td>-2</td><td>-1</td><td> 0</td><td> 1</td><td> 2</td><td> 3</td><td> 4</td><td> 5</td></tr>\n",
       "</tbody>\n",
       "</table>\n"
      ],
      "text/latex": [
       "A matrix: 2 × 45 of type int\n",
       "\\begin{tabular}{lllllllllllllllllllll}\n",
       "\t -13 & -12 & -11 & -10 &  -9 & -8 & -7 & -6 & -5 & -4 & ⋯ & 22 & 23 & 24 & 25 & 26 & 27 & 28 & 29 & 30 & 31\\\\\n",
       "\t -14 & -13 & -12 & -11 & -10 & -9 & -8 & -7 & -6 & -5 & ⋯ & -4 & -3 & -2 & -1 &  0 &  1 &  2 &  3 &  4 &  5\\\\\n",
       "\\end{tabular}\n"
      ],
      "text/markdown": [
       "\n",
       "A matrix: 2 × 45 of type int\n",
       "\n",
       "| -13 | -12 | -11 | -10 |  -9 | -8 | -7 | -6 | -5 | -4 | ⋯ | 22 | 23 | 24 | 25 | 26 | 27 | 28 | 29 | 30 | 31 |\n",
       "| -14 | -13 | -12 | -11 | -10 | -9 | -8 | -7 | -6 | -5 | ⋯ | -4 | -3 | -2 | -1 |  0 |  1 |  2 |  3 |  4 |  5 |\n",
       "\n"
      ],
      "text/plain": [
       "     [,1] [,2] [,3] [,4] [,5] [,6] [,7] [,8] [,9] [,10] [,11] [,12] [,13] [,14]\n",
       "[1,] -13  -12  -11  -10   -9  -8   -7   -6   -5   -4    ⋯     22    23    24   \n",
       "[2,] -14  -13  -12  -11  -10  -9   -8   -7   -6   -5    ⋯     -4    -3    -2   \n",
       "     [,15] [,16] [,17] [,18] [,19] [,20] [,21]\n",
       "[1,] 25    26    27    28    29    30    31   \n",
       "[2,] -1     0     1     2     3     4     5   "
      ]
     },
     "metadata": {},
     "output_type": "display_data"
    }
   ],
   "source": [
    "# rbind and cbind\n",
    "rb <- rbind(-13:31,-14:10)\n",
    "rb"
   ]
  },
  {
   "cell_type": "code",
   "execution_count": 7,
   "metadata": {},
   "outputs": [
    {
     "data": {
      "text/html": [
       "<table class=\"dataframe\">\n",
       "<caption>A matrix: 34 × 2 of type int</caption>\n",
       "<tbody>\n",
       "\t<tr><td>-21</td><td>-12</td></tr>\n",
       "\t<tr><td>-20</td><td>-11</td></tr>\n",
       "\t<tr><td>-19</td><td>-10</td></tr>\n",
       "\t<tr><td>-18</td><td> -9</td></tr>\n",
       "\t<tr><td>-17</td><td> -8</td></tr>\n",
       "\t<tr><td>-16</td><td> -7</td></tr>\n",
       "\t<tr><td>-15</td><td> -6</td></tr>\n",
       "\t<tr><td>-14</td><td> -5</td></tr>\n",
       "\t<tr><td>-13</td><td> -4</td></tr>\n",
       "\t<tr><td>-12</td><td> -3</td></tr>\n",
       "\t<tr><td>-11</td><td> -2</td></tr>\n",
       "\t<tr><td>-10</td><td> -1</td></tr>\n",
       "\t<tr><td> -9</td><td>  0</td></tr>\n",
       "\t<tr><td> -8</td><td>  1</td></tr>\n",
       "\t<tr><td> -7</td><td>  2</td></tr>\n",
       "\t<tr><td> -6</td><td>  3</td></tr>\n",
       "\t<tr><td> -5</td><td>  4</td></tr>\n",
       "\t<tr><td> -4</td><td>  5</td></tr>\n",
       "\t<tr><td> -3</td><td>  6</td></tr>\n",
       "\t<tr><td> -2</td><td>  7</td></tr>\n",
       "\t<tr><td> -1</td><td>  8</td></tr>\n",
       "\t<tr><td>  0</td><td>  9</td></tr>\n",
       "\t<tr><td>  1</td><td> 10</td></tr>\n",
       "\t<tr><td>  2</td><td> 11</td></tr>\n",
       "\t<tr><td>  3</td><td> 12</td></tr>\n",
       "\t<tr><td>  4</td><td> 13</td></tr>\n",
       "\t<tr><td>  5</td><td> 14</td></tr>\n",
       "\t<tr><td>  6</td><td> 15</td></tr>\n",
       "\t<tr><td>  7</td><td> 16</td></tr>\n",
       "\t<tr><td>  8</td><td> 17</td></tr>\n",
       "\t<tr><td>  9</td><td> 18</td></tr>\n",
       "\t<tr><td> 10</td><td> 19</td></tr>\n",
       "\t<tr><td> 11</td><td> 20</td></tr>\n",
       "\t<tr><td> 12</td><td> 21</td></tr>\n",
       "</tbody>\n",
       "</table>\n"
      ],
      "text/latex": [
       "A matrix: 34 × 2 of type int\n",
       "\\begin{tabular}{ll}\n",
       "\t -21 & -12\\\\\n",
       "\t -20 & -11\\\\\n",
       "\t -19 & -10\\\\\n",
       "\t -18 &  -9\\\\\n",
       "\t -17 &  -8\\\\\n",
       "\t -16 &  -7\\\\\n",
       "\t -15 &  -6\\\\\n",
       "\t -14 &  -5\\\\\n",
       "\t -13 &  -4\\\\\n",
       "\t -12 &  -3\\\\\n",
       "\t -11 &  -2\\\\\n",
       "\t -10 &  -1\\\\\n",
       "\t  -9 &   0\\\\\n",
       "\t  -8 &   1\\\\\n",
       "\t  -7 &   2\\\\\n",
       "\t  -6 &   3\\\\\n",
       "\t  -5 &   4\\\\\n",
       "\t  -4 &   5\\\\\n",
       "\t  -3 &   6\\\\\n",
       "\t  -2 &   7\\\\\n",
       "\t  -1 &   8\\\\\n",
       "\t   0 &   9\\\\\n",
       "\t   1 &  10\\\\\n",
       "\t   2 &  11\\\\\n",
       "\t   3 &  12\\\\\n",
       "\t   4 &  13\\\\\n",
       "\t   5 &  14\\\\\n",
       "\t   6 &  15\\\\\n",
       "\t   7 &  16\\\\\n",
       "\t   8 &  17\\\\\n",
       "\t   9 &  18\\\\\n",
       "\t  10 &  19\\\\\n",
       "\t  11 &  20\\\\\n",
       "\t  12 &  21\\\\\n",
       "\\end{tabular}\n"
      ],
      "text/markdown": [
       "\n",
       "A matrix: 34 × 2 of type int\n",
       "\n",
       "| -21 | -12 |\n",
       "| -20 | -11 |\n",
       "| -19 | -10 |\n",
       "| -18 |  -9 |\n",
       "| -17 |  -8 |\n",
       "| -16 |  -7 |\n",
       "| -15 |  -6 |\n",
       "| -14 |  -5 |\n",
       "| -13 |  -4 |\n",
       "| -12 |  -3 |\n",
       "| -11 |  -2 |\n",
       "| -10 |  -1 |\n",
       "|  -9 |   0 |\n",
       "|  -8 |   1 |\n",
       "|  -7 |   2 |\n",
       "|  -6 |   3 |\n",
       "|  -5 |   4 |\n",
       "|  -4 |   5 |\n",
       "|  -3 |   6 |\n",
       "|  -2 |   7 |\n",
       "|  -1 |   8 |\n",
       "|   0 |   9 |\n",
       "|   1 |  10 |\n",
       "|   2 |  11 |\n",
       "|   3 |  12 |\n",
       "|   4 |  13 |\n",
       "|   5 |  14 |\n",
       "|   6 |  15 |\n",
       "|   7 |  16 |\n",
       "|   8 |  17 |\n",
       "|   9 |  18 |\n",
       "|  10 |  19 |\n",
       "|  11 |  20 |\n",
       "|  12 |  21 |\n",
       "\n"
      ],
      "text/plain": [
       "      [,1] [,2]\n",
       " [1,] -21  -12 \n",
       " [2,] -20  -11 \n",
       " [3,] -19  -10 \n",
       " [4,] -18   -9 \n",
       " [5,] -17   -8 \n",
       " [6,] -16   -7 \n",
       " [7,] -15   -6 \n",
       " [8,] -14   -5 \n",
       " [9,] -13   -4 \n",
       "[10,] -12   -3 \n",
       "[11,] -11   -2 \n",
       "[12,] -10   -1 \n",
       "[13,]  -9    0 \n",
       "[14,]  -8    1 \n",
       "[15,]  -7    2 \n",
       "[16,]  -6    3 \n",
       "[17,]  -5    4 \n",
       "[18,]  -4    5 \n",
       "[19,]  -3    6 \n",
       "[20,]  -2    7 \n",
       "[21,]  -1    8 \n",
       "[22,]   0    9 \n",
       "[23,]   1   10 \n",
       "[24,]   2   11 \n",
       "[25,]   3   12 \n",
       "[26,]   4   13 \n",
       "[27,]   5   14 \n",
       "[28,]   6   15 \n",
       "[29,]   7   16 \n",
       "[30,]   8   17 \n",
       "[31,]   9   18 \n",
       "[32,]  10   19 \n",
       "[33,]  11   20 \n",
       "[34,]  12   21 "
      ]
     },
     "metadata": {},
     "output_type": "display_data"
    }
   ],
   "source": [
    "cb<- cbind(-21:12,-12:21)\n",
    "cb"
   ]
  },
  {
   "cell_type": "code",
   "execution_count": 8,
   "metadata": {},
   "outputs": [
    {
     "data": {
      "text/html": [
       "<table class=\"dataframe\">\n",
       "<caption>A matrix: 2 × 3 of type dbl</caption>\n",
       "<tbody>\n",
       "\t<tr><td>12</td><td>33</td><td>35</td></tr>\n",
       "\t<tr><td>12</td><td>41</td><td>56</td></tr>\n",
       "</tbody>\n",
       "</table>\n"
      ],
      "text/latex": [
       "A matrix: 2 × 3 of type dbl\n",
       "\\begin{tabular}{lll}\n",
       "\t 12 & 33 & 35\\\\\n",
       "\t 12 & 41 & 56\\\\\n",
       "\\end{tabular}\n"
      ],
      "text/markdown": [
       "\n",
       "A matrix: 2 × 3 of type dbl\n",
       "\n",
       "| 12 | 33 | 35 |\n",
       "| 12 | 41 | 56 |\n",
       "\n"
      ],
      "text/plain": [
       "     [,1] [,2] [,3]\n",
       "[1,] 12   33   35  \n",
       "[2,] 12   41   56  "
      ]
     },
     "metadata": {},
     "output_type": "display_data"
    }
   ],
   "source": [
    "A <-matrix(data=c(12,12,33,41,35,56),nrow=2,ncol=3)\n",
    "A"
   ]
  },
  {
   "cell_type": "code",
   "execution_count": 9,
   "metadata": {},
   "outputs": [
    {
     "data": {
      "text/html": [
       "<style>\n",
       ".list-inline {list-style: none; margin:0; padding: 0}\n",
       ".list-inline>li {display: inline-block}\n",
       ".list-inline>li:not(:last-child)::after {content: \"\\00b7\"; padding: 0 .5ex}\n",
       "</style>\n",
       "<ol class=list-inline><li>2</li><li>3</li></ol>\n"
      ],
      "text/latex": [
       "\\begin{enumerate*}\n",
       "\\item 2\n",
       "\\item 3\n",
       "\\end{enumerate*}\n"
      ],
      "text/markdown": [
       "1. 2\n",
       "2. 3\n",
       "\n",
       "\n"
      ],
      "text/plain": [
       "[1] 2 3"
      ]
     },
     "metadata": {},
     "output_type": "display_data"
    }
   ],
   "source": [
    "# Dimension\n",
    "dim(A)"
   ]
  },
  {
   "cell_type": "code",
   "execution_count": 10,
   "metadata": {},
   "outputs": [
    {
     "data": {
      "text/html": [
       "3"
      ],
      "text/latex": [
       "3"
      ],
      "text/markdown": [
       "3"
      ],
      "text/plain": [
       "[1] 3"
      ]
     },
     "metadata": {},
     "output_type": "display_data"
    }
   ],
   "source": [
    "dim(A)[2]"
   ]
  },
  {
   "cell_type": "code",
   "execution_count": 11,
   "metadata": {},
   "outputs": [
    {
     "data": {
      "text/html": [
       "2"
      ],
      "text/latex": [
       "2"
      ],
      "text/markdown": [
       "2"
      ],
      "text/plain": [
       "[1] 2"
      ]
     },
     "metadata": {},
     "output_type": "display_data"
    }
   ],
   "source": [
    "# No of rows\n",
    "nrow(A)"
   ]
  },
  {
   "cell_type": "code",
   "execution_count": 12,
   "metadata": {},
   "outputs": [
    {
     "data": {
      "text/html": [
       "3"
      ],
      "text/latex": [
       "3"
      ],
      "text/markdown": [
       "3"
      ],
      "text/plain": [
       "[1] 3"
      ]
     },
     "metadata": {},
     "output_type": "display_data"
    }
   ],
   "source": [
    "# No of columns\n",
    "ncol(A)"
   ]
  },
  {
   "cell_type": "code",
   "execution_count": 14,
   "metadata": {},
   "outputs": [
    {
     "data": {
      "text/html": [
       "<table class=\"dataframe\">\n",
       "<caption>A matrix: 4 × 4 of type dbl</caption>\n",
       "<tbody>\n",
       "\t<tr><td>0.16</td><td>6.50</td><td> 5.9</td><td>91.30</td></tr>\n",
       "\t<tr><td>0.22</td><td>8.61</td><td>13.0</td><td>21.42</td></tr>\n",
       "\t<tr><td>7.30</td><td>1.70</td><td>31.1</td><td>21.53</td></tr>\n",
       "\t<tr><td>0.49</td><td>3.80</td><td>61.2</td><td>21.63</td></tr>\n",
       "</tbody>\n",
       "</table>\n"
      ],
      "text/latex": [
       "A matrix: 4 × 4 of type dbl\n",
       "\\begin{tabular}{llll}\n",
       "\t 0.16 & 6.50 &  5.9 & 91.30\\\\\n",
       "\t 0.22 & 8.61 & 13.0 & 21.42\\\\\n",
       "\t 7.30 & 1.70 & 31.1 & 21.53\\\\\n",
       "\t 0.49 & 3.80 & 61.2 & 21.63\\\\\n",
       "\\end{tabular}\n"
      ],
      "text/markdown": [
       "\n",
       "A matrix: 4 × 4 of type dbl\n",
       "\n",
       "| 0.16 | 6.50 |  5.9 | 91.30 |\n",
       "| 0.22 | 8.61 | 13.0 | 21.42 |\n",
       "| 7.30 | 1.70 | 31.1 | 21.53 |\n",
       "| 0.49 | 3.80 | 61.2 | 21.63 |\n",
       "\n"
      ],
      "text/plain": [
       "     [,1] [,2] [,3] [,4] \n",
       "[1,] 0.16 6.50  5.9 91.30\n",
       "[2,] 0.22 8.61 13.0 21.42\n",
       "[3,] 7.30 1.70 31.1 21.53\n",
       "[4,] 0.49 3.80 61.2 21.63"
      ]
     },
     "metadata": {},
     "output_type": "display_data"
    }
   ],
   "source": [
    "# Extracting elements from a Matrix\n",
    "\n",
    "A <- matrix(c(.16,.22,7.3,.49,6.5,8.61,1.7,3.8,5.9,13,31.1,61.2,91.3,21.42,21.53,21.63),nrow=4,ncol=4)\n",
    "A"
   ]
  },
  {
   "cell_type": "code",
   "execution_count": 15,
   "metadata": {},
   "outputs": [
    {
     "data": {
      "text/html": [
       "<style>\n",
       ".list-inline {list-style: none; margin:0; padding: 0}\n",
       ".list-inline>li {display: inline-block}\n",
       ".list-inline>li:not(:last-child)::after {content: \"\\00b7\"; padding: 0 .5ex}\n",
       "</style>\n",
       "<ol class=list-inline><li>0.16</li><li>8.61</li><li>31.1</li><li>21.63</li></ol>\n"
      ],
      "text/latex": [
       "\\begin{enumerate*}\n",
       "\\item 0.16\n",
       "\\item 8.61\n",
       "\\item 31.1\n",
       "\\item 21.63\n",
       "\\end{enumerate*}\n"
      ],
      "text/markdown": [
       "1. 0.16\n",
       "2. 8.61\n",
       "3. 31.1\n",
       "4. 21.63\n",
       "\n",
       "\n"
      ],
      "text/plain": [
       "[1]  0.16  8.61 31.10 21.63"
      ]
     },
     "metadata": {},
     "output_type": "display_data"
    }
   ],
   "source": [
    "# 1.Diagonal elements of a Matrix\n",
    "diag(x=A)   "
   ]
  },
  {
   "cell_type": "code",
   "execution_count": 16,
   "metadata": {},
   "outputs": [
    {
     "data": {
      "text/html": [
       "1.7"
      ],
      "text/latex": [
       "1.7"
      ],
      "text/markdown": [
       "1.7"
      ],
      "text/plain": [
       "[1] 1.7"
      ]
     },
     "metadata": {},
     "output_type": "display_data"
    }
   ],
   "source": [
    "# 2. Element of 3rd row and 2nd column\n",
    "A[3,2]"
   ]
  },
  {
   "cell_type": "code",
   "execution_count": 17,
   "metadata": {},
   "outputs": [
    {
     "data": {
      "text/html": [
       "<style>\n",
       ".list-inline {list-style: none; margin:0; padding: 0}\n",
       ".list-inline>li {display: inline-block}\n",
       ".list-inline>li:not(:last-child)::after {content: \"\\00b7\"; padding: 0 .5ex}\n",
       "</style>\n",
       "<ol class=list-inline><li>6.5</li><li>8.61</li><li>1.7</li><li>3.8</li></ol>\n"
      ],
      "text/latex": [
       "\\begin{enumerate*}\n",
       "\\item 6.5\n",
       "\\item 8.61\n",
       "\\item 1.7\n",
       "\\item 3.8\n",
       "\\end{enumerate*}\n"
      ],
      "text/markdown": [
       "1. 6.5\n",
       "2. 8.61\n",
       "3. 1.7\n",
       "4. 3.8\n",
       "\n",
       "\n"
      ],
      "text/plain": [
       "[1] 6.50 8.61 1.70 3.80"
      ]
     },
     "metadata": {},
     "output_type": "display_data"
    }
   ],
   "source": [
    "# 3. Elements of 2nd column\n",
    "A[,2]"
   ]
  },
  {
   "cell_type": "code",
   "execution_count": 18,
   "metadata": {},
   "outputs": [
    {
     "data": {
      "text/html": [
       "<table class=\"dataframe\">\n",
       "<caption>A matrix: 2 × 4 of type dbl</caption>\n",
       "<tbody>\n",
       "\t<tr><td>0.22</td><td>8.61</td><td>13.0</td><td>21.42</td></tr>\n",
       "\t<tr><td>7.30</td><td>1.70</td><td>31.1</td><td>21.53</td></tr>\n",
       "</tbody>\n",
       "</table>\n"
      ],
      "text/latex": [
       "A matrix: 2 × 4 of type dbl\n",
       "\\begin{tabular}{llll}\n",
       "\t 0.22 & 8.61 & 13.0 & 21.42\\\\\n",
       "\t 7.30 & 1.70 & 31.1 & 21.53\\\\\n",
       "\\end{tabular}\n"
      ],
      "text/markdown": [
       "\n",
       "A matrix: 2 × 4 of type dbl\n",
       "\n",
       "| 0.22 | 8.61 | 13.0 | 21.42 |\n",
       "| 7.30 | 1.70 | 31.1 | 21.53 |\n",
       "\n"
      ],
      "text/plain": [
       "     [,1] [,2] [,3] [,4] \n",
       "[1,] 0.22 8.61 13.0 21.42\n",
       "[2,] 7.30 1.70 31.1 21.53"
      ]
     },
     "metadata": {},
     "output_type": "display_data"
    }
   ],
   "source": [
    "# 4. Extracting 2nd and 3rd rows\n",
    "A[2:3,]"
   ]
  },
  {
   "cell_type": "code",
   "execution_count": 19,
   "metadata": {},
   "outputs": [
    {
     "data": {
      "text/html": [
       "<table class=\"dataframe\">\n",
       "<caption>A matrix: 4 × 2 of type dbl</caption>\n",
       "<tbody>\n",
       "\t<tr><td>91.30</td><td>6.50</td></tr>\n",
       "\t<tr><td>21.42</td><td>8.61</td></tr>\n",
       "\t<tr><td>21.53</td><td>1.70</td></tr>\n",
       "\t<tr><td>21.63</td><td>3.80</td></tr>\n",
       "</tbody>\n",
       "</table>\n"
      ],
      "text/latex": [
       "A matrix: 4 × 2 of type dbl\n",
       "\\begin{tabular}{ll}\n",
       "\t 91.30 & 6.50\\\\\n",
       "\t 21.42 & 8.61\\\\\n",
       "\t 21.53 & 1.70\\\\\n",
       "\t 21.63 & 3.80\\\\\n",
       "\\end{tabular}\n"
      ],
      "text/markdown": [
       "\n",
       "A matrix: 4 × 2 of type dbl\n",
       "\n",
       "| 91.30 | 6.50 |\n",
       "| 21.42 | 8.61 |\n",
       "| 21.53 | 1.70 |\n",
       "| 21.63 | 3.80 |\n",
       "\n"
      ],
      "text/plain": [
       "     [,1]  [,2]\n",
       "[1,] 91.30 6.50\n",
       "[2,] 21.42 8.61\n",
       "[3,] 21.53 1.70\n",
       "[4,] 21.63 3.80"
      ]
     },
     "metadata": {},
     "output_type": "display_data"
    }
   ],
   "source": [
    "# 5. Extracting 4th and 2nd column\n",
    "A[,c(4,2)]"
   ]
  },
  {
   "cell_type": "code",
   "execution_count": 20,
   "metadata": {},
   "outputs": [
    {
     "data": {
      "text/html": [
       "<table class=\"dataframe\">\n",
       "<caption>A matrix: 2 × 2 of type dbl</caption>\n",
       "<tbody>\n",
       "\t<tr><td>3.8</td><td>61.2</td></tr>\n",
       "\t<tr><td>1.7</td><td>31.1</td></tr>\n",
       "</tbody>\n",
       "</table>\n"
      ],
      "text/latex": [
       "A matrix: 2 × 2 of type dbl\n",
       "\\begin{tabular}{ll}\n",
       "\t 3.8 & 61.2\\\\\n",
       "\t 1.7 & 31.1\\\\\n",
       "\\end{tabular}\n"
      ],
      "text/markdown": [
       "\n",
       "A matrix: 2 × 2 of type dbl\n",
       "\n",
       "| 3.8 | 61.2 |\n",
       "| 1.7 | 31.1 |\n",
       "\n"
      ],
      "text/plain": [
       "     [,1] [,2]\n",
       "[1,] 3.8  61.2\n",
       "[2,] 1.7  31.1"
      ]
     },
     "metadata": {},
     "output_type": "display_data"
    }
   ],
   "source": [
    "# 6. Extracting (4,2) ,(4,3) , (3,2) and (3,3) values\n",
    "A[c(4,3),2:3]"
   ]
  },
  {
   "cell_type": "markdown",
   "metadata": {},
   "source": [
    "### Manipulating a Matrix"
   ]
  },
  {
   "cell_type": "code",
   "execution_count": 22,
   "metadata": {},
   "outputs": [
    {
     "data": {
      "text/html": [
       "<table class=\"dataframe\">\n",
       "<caption>A matrix: 4 × 4 of type dbl</caption>\n",
       "<tbody>\n",
       "\t<tr><td>0.16</td><td>6.50</td><td> 5.9</td><td>91.30</td></tr>\n",
       "\t<tr><td>0.22</td><td>8.61</td><td>13.0</td><td>21.42</td></tr>\n",
       "\t<tr><td>7.30</td><td>1.70</td><td>31.1</td><td>21.53</td></tr>\n",
       "\t<tr><td>0.49</td><td>3.80</td><td>61.2</td><td>21.63</td></tr>\n",
       "</tbody>\n",
       "</table>\n"
      ],
      "text/latex": [
       "A matrix: 4 × 4 of type dbl\n",
       "\\begin{tabular}{llll}\n",
       "\t 0.16 & 6.50 &  5.9 & 91.30\\\\\n",
       "\t 0.22 & 8.61 & 13.0 & 21.42\\\\\n",
       "\t 7.30 & 1.70 & 31.1 & 21.53\\\\\n",
       "\t 0.49 & 3.80 & 61.2 & 21.63\\\\\n",
       "\\end{tabular}\n"
      ],
      "text/markdown": [
       "\n",
       "A matrix: 4 × 4 of type dbl\n",
       "\n",
       "| 0.16 | 6.50 |  5.9 | 91.30 |\n",
       "| 0.22 | 8.61 | 13.0 | 21.42 |\n",
       "| 7.30 | 1.70 | 31.1 | 21.53 |\n",
       "| 0.49 | 3.80 | 61.2 | 21.63 |\n",
       "\n"
      ],
      "text/plain": [
       "     [,1] [,2] [,3] [,4] \n",
       "[1,] 0.16 6.50  5.9 91.30\n",
       "[2,] 0.22 8.61 13.0 21.42\n",
       "[3,] 7.30 1.70 31.1 21.53\n",
       "[4,] 0.49 3.80 61.2 21.63"
      ]
     },
     "metadata": {},
     "output_type": "display_data"
    }
   ],
   "source": [
    "A <- matrix(c(.16,.22,7.3,.49,6.5,8.61,1.7,3.8,5.9,13,31.1,61.2,91.3,21.42,21.53,21.63),nrow=4,ncol=4)\n",
    "A"
   ]
  },
  {
   "cell_type": "code",
   "execution_count": 23,
   "metadata": {},
   "outputs": [
    {
     "data": {
      "text/html": [
       "<table class=\"dataframe\">\n",
       "<caption>A matrix: 4 × 3 of type dbl</caption>\n",
       "<tbody>\n",
       "\t<tr><td>0.16</td><td> 5.9</td><td>91.30</td></tr>\n",
       "\t<tr><td>0.22</td><td>13.0</td><td>21.42</td></tr>\n",
       "\t<tr><td>7.30</td><td>31.1</td><td>21.53</td></tr>\n",
       "\t<tr><td>0.49</td><td>61.2</td><td>21.63</td></tr>\n",
       "</tbody>\n",
       "</table>\n"
      ],
      "text/latex": [
       "A matrix: 4 × 3 of type dbl\n",
       "\\begin{tabular}{lll}\n",
       "\t 0.16 &  5.9 & 91.30\\\\\n",
       "\t 0.22 & 13.0 & 21.42\\\\\n",
       "\t 7.30 & 31.1 & 21.53\\\\\n",
       "\t 0.49 & 61.2 & 21.63\\\\\n",
       "\\end{tabular}\n"
      ],
      "text/markdown": [
       "\n",
       "A matrix: 4 × 3 of type dbl\n",
       "\n",
       "| 0.16 |  5.9 | 91.30 |\n",
       "| 0.22 | 13.0 | 21.42 |\n",
       "| 7.30 | 31.1 | 21.53 |\n",
       "| 0.49 | 61.2 | 21.63 |\n",
       "\n"
      ],
      "text/plain": [
       "     [,1] [,2] [,3] \n",
       "[1,] 0.16  5.9 91.30\n",
       "[2,] 0.22 13.0 21.42\n",
       "[3,] 7.30 31.1 21.53\n",
       "[4,] 0.49 61.2 21.63"
      ]
     },
     "metadata": {},
     "output_type": "display_data"
    }
   ],
   "source": [
    "# Removing column 2 from the matrix\n",
    "A[,-2]"
   ]
  },
  {
   "cell_type": "code",
   "execution_count": 24,
   "metadata": {},
   "outputs": [
    {
     "data": {
      "text/html": [
       "<table class=\"dataframe\">\n",
       "<caption>A matrix: 3 × 3 of type dbl</caption>\n",
       "<tbody>\n",
       "\t<tr><td> 5.9</td><td>6.50</td><td>0.16</td></tr>\n",
       "\t<tr><td>13.0</td><td>8.61</td><td>0.22</td></tr>\n",
       "\t<tr><td>31.1</td><td>1.70</td><td>7.30</td></tr>\n",
       "</tbody>\n",
       "</table>\n"
      ],
      "text/latex": [
       "A matrix: 3 × 3 of type dbl\n",
       "\\begin{tabular}{lll}\n",
       "\t  5.9 & 6.50 & 0.16\\\\\n",
       "\t 13.0 & 8.61 & 0.22\\\\\n",
       "\t 31.1 & 1.70 & 7.30\\\\\n",
       "\\end{tabular}\n"
      ],
      "text/markdown": [
       "\n",
       "A matrix: 3 × 3 of type dbl\n",
       "\n",
       "|  5.9 | 6.50 | 0.16 |\n",
       "| 13.0 | 8.61 | 0.22 |\n",
       "| 31.1 | 1.70 | 7.30 |\n",
       "\n"
      ],
      "text/plain": [
       "     [,1] [,2] [,3]\n",
       "[1,]  5.9 6.50 0.16\n",
       "[2,] 13.0 8.61 0.22\n",
       "[3,] 31.1 1.70 7.30"
      ]
     },
     "metadata": {},
     "output_type": "display_data"
    }
   ],
   "source": [
    "# Removing row 4 and selecting column 3,2 and 1 in this order\n",
    "A[-4,3:1]"
   ]
  },
  {
   "cell_type": "code",
   "execution_count": 25,
   "metadata": {},
   "outputs": [
    {
     "data": {
      "text/html": [
       "<table class=\"dataframe\">\n",
       "<caption>A matrix: 3 × 3 of type dbl</caption>\n",
       "<tbody>\n",
       "\t<tr><td>0.16</td><td>6.5</td><td>91.30</td></tr>\n",
       "\t<tr><td>7.30</td><td>1.7</td><td>21.53</td></tr>\n",
       "\t<tr><td>0.49</td><td>3.8</td><td>21.63</td></tr>\n",
       "</tbody>\n",
       "</table>\n"
      ],
      "text/latex": [
       "A matrix: 3 × 3 of type dbl\n",
       "\\begin{tabular}{lll}\n",
       "\t 0.16 & 6.5 & 91.30\\\\\n",
       "\t 7.30 & 1.7 & 21.53\\\\\n",
       "\t 0.49 & 3.8 & 21.63\\\\\n",
       "\\end{tabular}\n"
      ],
      "text/markdown": [
       "\n",
       "A matrix: 3 × 3 of type dbl\n",
       "\n",
       "| 0.16 | 6.5 | 91.30 |\n",
       "| 7.30 | 1.7 | 21.53 |\n",
       "| 0.49 | 3.8 | 21.63 |\n",
       "\n"
      ],
      "text/plain": [
       "     [,1] [,2] [,3] \n",
       "[1,] 0.16 6.5  91.30\n",
       "[2,] 7.30 1.7  21.53\n",
       "[3,] 0.49 3.8  21.63"
      ]
     },
     "metadata": {},
     "output_type": "display_data"
    }
   ],
   "source": [
    "# Removing row 2 and column 3\n",
    "A[-2,-3]"
   ]
  },
  {
   "cell_type": "code",
   "execution_count": 26,
   "metadata": {},
   "outputs": [
    {
     "data": {
      "text/html": [
       "<table class=\"dataframe\">\n",
       "<caption>A matrix: 3 × 2 of type dbl</caption>\n",
       "<tbody>\n",
       "\t<tr><td>0.16</td><td>6.5</td></tr>\n",
       "\t<tr><td>7.30</td><td>1.7</td></tr>\n",
       "\t<tr><td>0.49</td><td>3.8</td></tr>\n",
       "</tbody>\n",
       "</table>\n"
      ],
      "text/latex": [
       "A matrix: 3 × 2 of type dbl\n",
       "\\begin{tabular}{ll}\n",
       "\t 0.16 & 6.5\\\\\n",
       "\t 7.30 & 1.7\\\\\n",
       "\t 0.49 & 3.8\\\\\n",
       "\\end{tabular}\n"
      ],
      "text/markdown": [
       "\n",
       "A matrix: 3 × 2 of type dbl\n",
       "\n",
       "| 0.16 | 6.5 |\n",
       "| 7.30 | 1.7 |\n",
       "| 0.49 | 3.8 |\n",
       "\n"
      ],
      "text/plain": [
       "     [,1] [,2]\n",
       "[1,] 0.16 6.5 \n",
       "[2,] 7.30 1.7 \n",
       "[3,] 0.49 3.8 "
      ]
     },
     "metadata": {},
     "output_type": "display_data"
    }
   ],
   "source": [
    "# Removing row 2 and columns 3 and 4\n",
    "A[-2,-c(3,4)]"
   ]
  },
  {
   "cell_type": "code",
   "execution_count": 27,
   "metadata": {},
   "outputs": [
    {
     "data": {
      "text/html": [
       "<table class=\"dataframe\">\n",
       "<caption>A matrix: 4 × 4 of type dbl</caption>\n",
       "<tbody>\n",
       "\t<tr><td>0.16</td><td>6.50</td><td> 5.9</td><td>91.30</td></tr>\n",
       "\t<tr><td>0.22</td><td>8.61</td><td>13.0</td><td>21.42</td></tr>\n",
       "\t<tr><td>7.30</td><td>1.70</td><td>31.1</td><td>21.53</td></tr>\n",
       "\t<tr><td>0.49</td><td>3.80</td><td>61.2</td><td>21.63</td></tr>\n",
       "</tbody>\n",
       "</table>\n"
      ],
      "text/latex": [
       "A matrix: 4 × 4 of type dbl\n",
       "\\begin{tabular}{llll}\n",
       "\t 0.16 & 6.50 &  5.9 & 91.30\\\\\n",
       "\t 0.22 & 8.61 & 13.0 & 21.42\\\\\n",
       "\t 7.30 & 1.70 & 31.1 & 21.53\\\\\n",
       "\t 0.49 & 3.80 & 61.2 & 21.63\\\\\n",
       "\\end{tabular}\n"
      ],
      "text/markdown": [
       "\n",
       "A matrix: 4 × 4 of type dbl\n",
       "\n",
       "| 0.16 | 6.50 |  5.9 | 91.30 |\n",
       "| 0.22 | 8.61 | 13.0 | 21.42 |\n",
       "| 7.30 | 1.70 | 31.1 | 21.53 |\n",
       "| 0.49 | 3.80 | 61.2 | 21.63 |\n",
       "\n"
      ],
      "text/plain": [
       "     [,1] [,2] [,3] [,4] \n",
       "[1,] 0.16 6.50  5.9 91.30\n",
       "[2,] 0.22 8.61 13.0 21.42\n",
       "[3,] 7.30 1.70 31.1 21.53\n",
       "[4,] 0.49 3.80 61.2 21.63"
      ]
     },
     "metadata": {},
     "output_type": "display_data"
    }
   ],
   "source": [
    "# Copying A into B\n",
    "B<-A\n",
    "B"
   ]
  },
  {
   "cell_type": "code",
   "execution_count": 28,
   "metadata": {},
   "outputs": [
    {
     "data": {
      "text/html": [
       "<table class=\"dataframe\">\n",
       "<caption>A matrix: 4 × 4 of type dbl</caption>\n",
       "<tbody>\n",
       "\t<tr><td>0.16</td><td>6.50</td><td> 5.9</td><td>91.30</td></tr>\n",
       "\t<tr><td>0.22</td><td>8.61</td><td>13.0</td><td>21.42</td></tr>\n",
       "\t<tr><td>1.00</td><td>2.00</td><td> 3.0</td><td> 4.00</td></tr>\n",
       "\t<tr><td>0.49</td><td>3.80</td><td>61.2</td><td>21.63</td></tr>\n",
       "</tbody>\n",
       "</table>\n"
      ],
      "text/latex": [
       "A matrix: 4 × 4 of type dbl\n",
       "\\begin{tabular}{llll}\n",
       "\t 0.16 & 6.50 &  5.9 & 91.30\\\\\n",
       "\t 0.22 & 8.61 & 13.0 & 21.42\\\\\n",
       "\t 1.00 & 2.00 &  3.0 &  4.00\\\\\n",
       "\t 0.49 & 3.80 & 61.2 & 21.63\\\\\n",
       "\\end{tabular}\n"
      ],
      "text/markdown": [
       "\n",
       "A matrix: 4 × 4 of type dbl\n",
       "\n",
       "| 0.16 | 6.50 |  5.9 | 91.30 |\n",
       "| 0.22 | 8.61 | 13.0 | 21.42 |\n",
       "| 1.00 | 2.00 |  3.0 |  4.00 |\n",
       "| 0.49 | 3.80 | 61.2 | 21.63 |\n",
       "\n"
      ],
      "text/plain": [
       "     [,1] [,2] [,3] [,4] \n",
       "[1,] 0.16 6.50  5.9 91.30\n",
       "[2,] 0.22 8.61 13.0 21.42\n",
       "[3,] 1.00 2.00  3.0  4.00\n",
       "[4,] 0.49 3.80 61.2 21.63"
      ]
     },
     "metadata": {},
     "output_type": "display_data"
    }
   ],
   "source": [
    "# Replacing 3rd row of B with integers 1,2,3 and 4\n",
    "B[3,]<- 1:4\n",
    "B"
   ]
  },
  {
   "cell_type": "code",
   "execution_count": 29,
   "metadata": {},
   "outputs": [
    {
     "data": {
      "text/html": [
       "<table class=\"dataframe\">\n",
       "<caption>A matrix: 4 × 4 of type dbl</caption>\n",
       "<tbody>\n",
       "\t<tr><td>0.16</td><td>6.50</td><td>  5.9</td><td>91.30</td></tr>\n",
       "\t<tr><td>0.22</td><td>8.61</td><td> 13.0</td><td>21.42</td></tr>\n",
       "\t<tr><td>1.00</td><td>2.00</td><td>100.0</td><td> 4.00</td></tr>\n",
       "\t<tr><td>0.49</td><td>3.80</td><td>100.0</td><td>21.63</td></tr>\n",
       "</tbody>\n",
       "</table>\n"
      ],
      "text/latex": [
       "A matrix: 4 × 4 of type dbl\n",
       "\\begin{tabular}{llll}\n",
       "\t 0.16 & 6.50 &   5.9 & 91.30\\\\\n",
       "\t 0.22 & 8.61 &  13.0 & 21.42\\\\\n",
       "\t 1.00 & 2.00 & 100.0 &  4.00\\\\\n",
       "\t 0.49 & 3.80 & 100.0 & 21.63\\\\\n",
       "\\end{tabular}\n"
      ],
      "text/markdown": [
       "\n",
       "A matrix: 4 × 4 of type dbl\n",
       "\n",
       "| 0.16 | 6.50 |   5.9 | 91.30 |\n",
       "| 0.22 | 8.61 |  13.0 | 21.42 |\n",
       "| 1.00 | 2.00 | 100.0 |  4.00 |\n",
       "| 0.49 | 3.80 | 100.0 | 21.63 |\n",
       "\n"
      ],
      "text/plain": [
       "     [,1] [,2] [,3]  [,4] \n",
       "[1,] 0.16 6.50   5.9 91.30\n",
       "[2,] 0.22 8.61  13.0 21.42\n",
       "[3,] 1.00 2.00 100.0  4.00\n",
       "[4,] 0.49 3.80 100.0 21.63"
      ]
     },
     "metadata": {},
     "output_type": "display_data"
    }
   ],
   "source": [
    "# Replacing elements in (row 3,column 3) and (row 4,column 3) with value 100\n",
    "B[c(3,4),3]<-100\n",
    "B"
   ]
  },
  {
   "cell_type": "code",
   "execution_count": 30,
   "metadata": {},
   "outputs": [
    {
     "data": {
      "text/html": [
       "<table class=\"dataframe\">\n",
       "<caption>A matrix: 4 × 4 of type dbl</caption>\n",
       "<tbody>\n",
       "\t<tr><td>0.16</td><td>6.50</td><td>  5.9</td><td>91.30</td></tr>\n",
       "\t<tr><td>0.22</td><td>8.61</td><td> 13.0</td><td>21.42</td></tr>\n",
       "\t<tr><td>1.00</td><td>2.00</td><td>100.0</td><td> 4.00</td></tr>\n",
       "\t<tr><td>0.49</td><td>3.80</td><td>100.0</td><td>21.63</td></tr>\n",
       "</tbody>\n",
       "</table>\n"
      ],
      "text/latex": [
       "A matrix: 4 × 4 of type dbl\n",
       "\\begin{tabular}{llll}\n",
       "\t 0.16 & 6.50 &   5.9 & 91.30\\\\\n",
       "\t 0.22 & 8.61 &  13.0 & 21.42\\\\\n",
       "\t 1.00 & 2.00 & 100.0 &  4.00\\\\\n",
       "\t 0.49 & 3.80 & 100.0 & 21.63\\\\\n",
       "\\end{tabular}\n"
      ],
      "text/markdown": [
       "\n",
       "A matrix: 4 × 4 of type dbl\n",
       "\n",
       "| 0.16 | 6.50 |   5.9 | 91.30 |\n",
       "| 0.22 | 8.61 |  13.0 | 21.42 |\n",
       "| 1.00 | 2.00 | 100.0 |  4.00 |\n",
       "| 0.49 | 3.80 | 100.0 | 21.63 |\n",
       "\n"
      ],
      "text/plain": [
       "     [,1] [,2] [,3]  [,4] \n",
       "[1,] 0.16 6.50   5.9 91.30\n",
       "[2,] 0.22 8.61  13.0 21.42\n",
       "[3,] 1.00 2.00 100.0  4.00\n",
       "[4,] 0.49 3.80 100.0 21.63"
      ]
     },
     "metadata": {},
     "output_type": "display_data"
    }
   ],
   "source": [
    "# Replacing a Matrix's row with its column\n",
    "# Before changing\n",
    "B"
   ]
  },
  {
   "cell_type": "code",
   "execution_count": 31,
   "metadata": {},
   "outputs": [
    {
     "data": {
      "text/html": [
       "<table class=\"dataframe\">\n",
       "<caption>A matrix: 4 × 4 of type dbl</caption>\n",
       "<tbody>\n",
       "\t<tr><td> 0.16</td><td> 6.50</td><td> 5.90</td><td>91.30</td></tr>\n",
       "\t<tr><td> 0.22</td><td> 8.61</td><td>13.00</td><td>21.42</td></tr>\n",
       "\t<tr><td> 7.30</td><td> 1.70</td><td>31.10</td><td>21.53</td></tr>\n",
       "\t<tr><td>91.30</td><td>21.42</td><td>21.53</td><td>21.63</td></tr>\n",
       "</tbody>\n",
       "</table>\n"
      ],
      "text/latex": [
       "A matrix: 4 × 4 of type dbl\n",
       "\\begin{tabular}{llll}\n",
       "\t  0.16 &  6.50 &  5.90 & 91.30\\\\\n",
       "\t  0.22 &  8.61 & 13.00 & 21.42\\\\\n",
       "\t  7.30 &  1.70 & 31.10 & 21.53\\\\\n",
       "\t 91.30 & 21.42 & 21.53 & 21.63\\\\\n",
       "\\end{tabular}\n"
      ],
      "text/markdown": [
       "\n",
       "A matrix: 4 × 4 of type dbl\n",
       "\n",
       "|  0.16 |  6.50 |  5.90 | 91.30 |\n",
       "|  0.22 |  8.61 | 13.00 | 21.42 |\n",
       "|  7.30 |  1.70 | 31.10 | 21.53 |\n",
       "| 91.30 | 21.42 | 21.53 | 21.63 |\n",
       "\n"
      ],
      "text/plain": [
       "     [,1]  [,2]  [,3]  [,4] \n",
       "[1,]  0.16  6.50  5.90 91.30\n",
       "[2,]  0.22  8.61 13.00 21.42\n",
       "[3,]  7.30  1.70 31.10 21.53\n",
       "[4,] 91.30 21.42 21.53 21.63"
      ]
     },
     "metadata": {},
     "output_type": "display_data"
    }
   ],
   "source": [
    "# After changing\n",
    "B<-A\n",
    "B[4,]<-B[,4]\n",
    "B"
   ]
  },
  {
   "cell_type": "code",
   "execution_count": 32,
   "metadata": {},
   "outputs": [
    {
     "data": {
      "text/html": [
       "<table class=\"dataframe\">\n",
       "<caption>A matrix: 4 × 4 of type dbl</caption>\n",
       "<tbody>\n",
       "\t<tr><td>-600.00</td><td>-100.00</td><td> 5.90</td><td>91.30</td></tr>\n",
       "\t<tr><td>   0.22</td><td>   8.61</td><td>13.00</td><td>21.42</td></tr>\n",
       "\t<tr><td>   7.30</td><td>   1.70</td><td>31.10</td><td>21.53</td></tr>\n",
       "\t<tr><td> 600.00</td><td> 100.00</td><td>21.53</td><td>21.63</td></tr>\n",
       "</tbody>\n",
       "</table>\n"
      ],
      "text/latex": [
       "A matrix: 4 × 4 of type dbl\n",
       "\\begin{tabular}{llll}\n",
       "\t -600.00 & -100.00 &  5.90 & 91.30\\\\\n",
       "\t    0.22 &    8.61 & 13.00 & 21.42\\\\\n",
       "\t    7.30 &    1.70 & 31.10 & 21.53\\\\\n",
       "\t  600.00 &  100.00 & 21.53 & 21.63\\\\\n",
       "\\end{tabular}\n"
      ],
      "text/markdown": [
       "\n",
       "A matrix: 4 × 4 of type dbl\n",
       "\n",
       "| -600.00 | -100.00 |  5.90 | 91.30 |\n",
       "|    0.22 |    8.61 | 13.00 | 21.42 |\n",
       "|    7.30 |    1.70 | 31.10 | 21.53 |\n",
       "|  600.00 |  100.00 | 21.53 | 21.63 |\n",
       "\n"
      ],
      "text/plain": [
       "     [,1]    [,2]    [,3]  [,4] \n",
       "[1,] -600.00 -100.00  5.90 91.30\n",
       "[2,]    0.22    8.61 13.00 21.42\n",
       "[3,]    7.30    1.70 31.10 21.53\n",
       "[4,]  600.00  100.00 21.53 21.63"
      ]
     },
     "metadata": {},
     "output_type": "display_data"
    }
   ],
   "source": [
    "# Changing matrix elements with vector\n",
    "B[c(1,4),2:1]<-c(-100,100,-600,600)\n",
    "B"
   ]
  },
  {
   "cell_type": "code",
   "execution_count": 33,
   "metadata": {},
   "outputs": [
    {
     "data": {
      "text/html": [
       "<table class=\"dataframe\">\n",
       "<caption>A matrix: 4 × 4 of type dbl</caption>\n",
       "<tbody>\n",
       "\t<tr><td>-20.00</td><td>-100.00</td><td> 5.90</td><td>-20.00</td></tr>\n",
       "\t<tr><td>  0.22</td><td>   8.61</td><td>13.00</td><td> 21.42</td></tr>\n",
       "\t<tr><td>  7.30</td><td>   1.70</td><td>31.10</td><td> 21.53</td></tr>\n",
       "\t<tr><td> 20.00</td><td> 100.00</td><td>21.53</td><td> 20.00</td></tr>\n",
       "</tbody>\n",
       "</table>\n"
      ],
      "text/latex": [
       "A matrix: 4 × 4 of type dbl\n",
       "\\begin{tabular}{llll}\n",
       "\t -20.00 & -100.00 &  5.90 & -20.00\\\\\n",
       "\t   0.22 &    8.61 & 13.00 &  21.42\\\\\n",
       "\t   7.30 &    1.70 & 31.10 &  21.53\\\\\n",
       "\t  20.00 &  100.00 & 21.53 &  20.00\\\\\n",
       "\\end{tabular}\n"
      ],
      "text/markdown": [
       "\n",
       "A matrix: 4 × 4 of type dbl\n",
       "\n",
       "| -20.00 | -100.00 |  5.90 | -20.00 |\n",
       "|   0.22 |    8.61 | 13.00 |  21.42 |\n",
       "|   7.30 |    1.70 | 31.10 |  21.53 |\n",
       "|  20.00 |  100.00 | 21.53 |  20.00 |\n",
       "\n"
      ],
      "text/plain": [
       "     [,1]   [,2]    [,3]  [,4]  \n",
       "[1,] -20.00 -100.00  5.90 -20.00\n",
       "[2,]   0.22    8.61 13.00  21.42\n",
       "[3,]   7.30    1.70 31.10  21.53\n",
       "[4,]  20.00  100.00 21.53  20.00"
      ]
     },
     "metadata": {},
     "output_type": "display_data"
    }
   ],
   "source": [
    "B[c(1,4),c(1,4)]<-c(-20,20)\n",
    "B"
   ]
  },
  {
   "cell_type": "code",
   "execution_count": 34,
   "metadata": {},
   "outputs": [
    {
     "data": {
      "text/html": [
       "<table class=\"dataframe\">\n",
       "<caption>A matrix: 4 × 4 of type dbl</caption>\n",
       "<tbody>\n",
       "\t<tr><td>-99.00</td><td>-100.0</td><td>  5.90</td><td>-20.00</td></tr>\n",
       "\t<tr><td>  0.22</td><td> -99.0</td><td> 13.00</td><td> 21.42</td></tr>\n",
       "\t<tr><td>  7.30</td><td>   1.7</td><td>-99.00</td><td> 21.53</td></tr>\n",
       "\t<tr><td> 20.00</td><td> 100.0</td><td> 21.53</td><td>-99.00</td></tr>\n",
       "</tbody>\n",
       "</table>\n"
      ],
      "text/latex": [
       "A matrix: 4 × 4 of type dbl\n",
       "\\begin{tabular}{llll}\n",
       "\t -99.00 & -100.0 &   5.90 & -20.00\\\\\n",
       "\t   0.22 &  -99.0 &  13.00 &  21.42\\\\\n",
       "\t   7.30 &    1.7 & -99.00 &  21.53\\\\\n",
       "\t  20.00 &  100.0 &  21.53 & -99.00\\\\\n",
       "\\end{tabular}\n"
      ],
      "text/markdown": [
       "\n",
       "A matrix: 4 × 4 of type dbl\n",
       "\n",
       "| -99.00 | -100.0 |   5.90 | -20.00 |\n",
       "|   0.22 |  -99.0 |  13.00 |  21.42 |\n",
       "|   7.30 |    1.7 | -99.00 |  21.53 |\n",
       "|  20.00 |  100.0 |  21.53 | -99.00 |\n",
       "\n"
      ],
      "text/plain": [
       "     [,1]   [,2]   [,3]   [,4]  \n",
       "[1,] -99.00 -100.0   5.90 -20.00\n",
       "[2,]   0.22  -99.0  13.00  21.42\n",
       "[3,]   7.30    1.7 -99.00  21.53\n",
       "[4,]  20.00  100.0  21.53 -99.00"
      ]
     },
     "metadata": {},
     "output_type": "display_data"
    }
   ],
   "source": [
    "# Filling Diagonal elements of B with -99\n",
    "\n",
    "diag(B)<-rep(x=-99,times=4)\n",
    "B"
   ]
  },
  {
   "cell_type": "code",
   "execution_count": null,
   "metadata": {},
   "outputs": [],
   "source": []
  }
 ],
 "metadata": {
  "kernelspec": {
   "display_name": "R",
   "language": "R",
   "name": "ir"
  },
  "language_info": {
   "codemirror_mode": "r",
   "file_extension": ".r",
   "mimetype": "text/x-r-source",
   "name": "R",
   "pygments_lexer": "r",
   "version": "4.2.2"
  }
 },
 "nbformat": 4,
 "nbformat_minor": 2
}
