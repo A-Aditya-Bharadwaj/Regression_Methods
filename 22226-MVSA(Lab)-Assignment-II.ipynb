{
 "cells": [
  {
   "cell_type": "markdown",
   "id": "0b502ddb",
   "metadata": {},
   "source": [
    "### *Author : A Aditya Bhardwaj*\n",
    "#### Reg. No. : 22226\n",
    "\n",
    "### Manipulating Matrix:\n",
    "\n",
    "## $$MDSC-202(P)$$\n",
    "\n",
    "## $$Assignment-II$$"
   ]
  },
  {
   "cell_type": "code",
   "execution_count": 11,
   "id": "acd746c4",
   "metadata": {},
   "outputs": [
    {
     "data": {
      "text/html": [
       "<table class=\"dataframe\">\n",
       "<caption>A matrix: 4 × 2 of type int</caption>\n",
       "<tbody>\n",
       "\t<tr><td>1</td><td>2</td></tr>\n",
       "\t<tr><td>3</td><td>4</td></tr>\n",
       "\t<tr><td>5</td><td>6</td></tr>\n",
       "\t<tr><td>7</td><td>8</td></tr>\n",
       "</tbody>\n",
       "</table>\n"
      ],
      "text/latex": [
       "A matrix: 4 × 2 of type int\n",
       "\\begin{tabular}{ll}\n",
       "\t 1 & 2\\\\\n",
       "\t 3 & 4\\\\\n",
       "\t 5 & 6\\\\\n",
       "\t 7 & 8\\\\\n",
       "\\end{tabular}\n"
      ],
      "text/markdown": [
       "\n",
       "A matrix: 4 × 2 of type int\n",
       "\n",
       "| 1 | 2 |\n",
       "| 3 | 4 |\n",
       "| 5 | 6 |\n",
       "| 7 | 8 |\n",
       "\n"
      ],
      "text/plain": [
       "     [,1] [,2]\n",
       "[1,] 1    2   \n",
       "[2,] 3    4   \n",
       "[3,] 5    6   \n",
       "[4,] 7    8   "
      ]
     },
     "metadata": {},
     "output_type": "display_data"
    }
   ],
   "source": [
    "x <- matrix(data = 1:8,nrow = 4,ncol = 2,byrow = TRUE )\n",
    "x"
   ]
  },
  {
   "cell_type": "code",
   "execution_count": 12,
   "id": "2a9aec0e",
   "metadata": {},
   "outputs": [
    {
     "data": {
      "text/html": [
       "<table class=\"dataframe\">\n",
       "<caption>A matrix: 2 × 2 of type dbl</caption>\n",
       "<tbody>\n",
       "\t<tr><td> 84</td><td>100</td></tr>\n",
       "\t<tr><td>100</td><td>120</td></tr>\n",
       "</tbody>\n",
       "</table>\n"
      ],
      "text/latex": [
       "A matrix: 2 × 2 of type dbl\n",
       "\\begin{tabular}{ll}\n",
       "\t  84 & 100\\\\\n",
       "\t 100 & 120\\\\\n",
       "\\end{tabular}\n"
      ],
      "text/markdown": [
       "\n",
       "A matrix: 2 × 2 of type dbl\n",
       "\n",
       "|  84 | 100 |\n",
       "| 100 | 120 |\n",
       "\n"
      ],
      "text/plain": [
       "     [,1] [,2]\n",
       "[1,]  84  100 \n",
       "[2,] 100  120 "
      ]
     },
     "metadata": {},
     "output_type": "display_data"
    }
   ],
   "source": [
    "# Transpose of x :\n",
    "xtx <- t(x) %*% x\n",
    "xtx"
   ]
  },
  {
   "cell_type": "code",
   "execution_count": 13,
   "id": "125b43d2",
   "metadata": {},
   "outputs": [
    {
     "data": {
      "text/html": [
       "<table class=\"dataframe\">\n",
       "<caption>A matrix: 2 × 2 of type dbl</caption>\n",
       "<tbody>\n",
       "\t<tr><td> 84</td><td>100</td></tr>\n",
       "\t<tr><td>100</td><td>120</td></tr>\n",
       "</tbody>\n",
       "</table>\n"
      ],
      "text/latex": [
       "A matrix: 2 × 2 of type dbl\n",
       "\\begin{tabular}{ll}\n",
       "\t  84 & 100\\\\\n",
       "\t 100 & 120\\\\\n",
       "\\end{tabular}\n"
      ],
      "text/markdown": [
       "\n",
       "A matrix: 2 × 2 of type dbl\n",
       "\n",
       "|  84 | 100 |\n",
       "| 100 | 120 |\n",
       "\n"
      ],
      "text/plain": [
       "     [,1] [,2]\n",
       "[1,]  84  100 \n",
       "[2,] 100  120 "
      ]
     },
     "metadata": {},
     "output_type": "display_data"
    }
   ],
   "source": [
    "# Crossproduct\n",
    "xtx1 <- crossprod(x)\n",
    "xtx1"
   ]
  },
  {
   "cell_type": "code",
   "execution_count": 14,
   "id": "8831f79e",
   "metadata": {},
   "outputs": [
    {
     "data": {
      "text/html": [
       "<table class=\"dataframe\">\n",
       "<caption>A matrix: 4 × 2 of type dbl</caption>\n",
       "<tbody>\n",
       "\t<tr><td> 4</td><td> 8</td></tr>\n",
       "\t<tr><td>12</td><td>16</td></tr>\n",
       "\t<tr><td>20</td><td>24</td></tr>\n",
       "\t<tr><td>28</td><td>32</td></tr>\n",
       "</tbody>\n",
       "</table>\n"
      ],
      "text/latex": [
       "A matrix: 4 × 2 of type dbl\n",
       "\\begin{tabular}{ll}\n",
       "\t  4 &  8\\\\\n",
       "\t 12 & 16\\\\\n",
       "\t 20 & 24\\\\\n",
       "\t 28 & 32\\\\\n",
       "\\end{tabular}\n"
      ],
      "text/markdown": [
       "\n",
       "A matrix: 4 × 2 of type dbl\n",
       "\n",
       "|  4 |  8 |\n",
       "| 12 | 16 |\n",
       "| 20 | 24 |\n",
       "| 28 | 32 |\n",
       "\n"
      ],
      "text/plain": [
       "     [,1] [,2]\n",
       "[1,]  4    8  \n",
       "[2,] 12   16  \n",
       "[3,] 20   24  \n",
       "[4,] 28   32  "
      ]
     },
     "metadata": {},
     "output_type": "display_data"
    }
   ],
   "source": [
    "# Arithmetic Operations on Matrix:\n",
    "4*x"
   ]
  },
  {
   "cell_type": "code",
   "execution_count": 15,
   "id": "5d55da01",
   "metadata": {},
   "outputs": [
    {
     "data": {
      "text/html": [
       "<table class=\"dataframe\">\n",
       "<caption>A matrix: 4 × 2 of type dbl</caption>\n",
       "<tbody>\n",
       "\t<tr><td> 3</td><td> 6</td></tr>\n",
       "\t<tr><td> 9</td><td>12</td></tr>\n",
       "\t<tr><td>15</td><td>18</td></tr>\n",
       "\t<tr><td>21</td><td>24</td></tr>\n",
       "</tbody>\n",
       "</table>\n"
      ],
      "text/latex": [
       "A matrix: 4 × 2 of type dbl\n",
       "\\begin{tabular}{ll}\n",
       "\t  3 &  6\\\\\n",
       "\t  9 & 12\\\\\n",
       "\t 15 & 18\\\\\n",
       "\t 21 & 24\\\\\n",
       "\\end{tabular}\n"
      ],
      "text/markdown": [
       "\n",
       "A matrix: 4 × 2 of type dbl\n",
       "\n",
       "|  3 |  6 |\n",
       "|  9 | 12 |\n",
       "| 15 | 18 |\n",
       "| 21 | 24 |\n",
       "\n"
      ],
      "text/plain": [
       "     [,1] [,2]\n",
       "[1,]  3    6  \n",
       "[2,]  9   12  \n",
       "[3,] 15   18  \n",
       "[4,] 21   24  "
      ]
     },
     "metadata": {},
     "output_type": "display_data"
    }
   ],
   "source": [
    "4*x - x"
   ]
  },
  {
   "cell_type": "code",
   "execution_count": 16,
   "id": "80077bda",
   "metadata": {},
   "outputs": [
    {
     "data": {
      "text/html": [
       "<table class=\"dataframe\">\n",
       "<caption>A matrix: 4 × 2 of type dbl</caption>\n",
       "<tbody>\n",
       "\t<tr><td> 5</td><td>10</td></tr>\n",
       "\t<tr><td>15</td><td>20</td></tr>\n",
       "\t<tr><td>25</td><td>30</td></tr>\n",
       "\t<tr><td>35</td><td>40</td></tr>\n",
       "</tbody>\n",
       "</table>\n"
      ],
      "text/latex": [
       "A matrix: 4 × 2 of type dbl\n",
       "\\begin{tabular}{ll}\n",
       "\t  5 & 10\\\\\n",
       "\t 15 & 20\\\\\n",
       "\t 25 & 30\\\\\n",
       "\t 35 & 40\\\\\n",
       "\\end{tabular}\n"
      ],
      "text/markdown": [
       "\n",
       "A matrix: 4 × 2 of type dbl\n",
       "\n",
       "|  5 | 10 |\n",
       "| 15 | 20 |\n",
       "| 25 | 30 |\n",
       "| 35 | 40 |\n",
       "\n"
      ],
      "text/plain": [
       "     [,1] [,2]\n",
       "[1,]  5   10  \n",
       "[2,] 15   20  \n",
       "[3,] 25   30  \n",
       "[4,] 35   40  "
      ]
     },
     "metadata": {},
     "output_type": "display_data"
    }
   ],
   "source": [
    "x + 4*x"
   ]
  },
  {
   "cell_type": "code",
   "execution_count": 17,
   "id": "55bbbf39",
   "metadata": {},
   "outputs": [
    {
     "data": {
      "text/html": [
       "<table class=\"dataframe\">\n",
       "<caption>A matrix: 4 × 2 of type dbl</caption>\n",
       "<tbody>\n",
       "\t<tr><td> 2</td><td> 4</td></tr>\n",
       "\t<tr><td> 6</td><td> 8</td></tr>\n",
       "\t<tr><td>10</td><td>12</td></tr>\n",
       "\t<tr><td>14</td><td>16</td></tr>\n",
       "</tbody>\n",
       "</table>\n"
      ],
      "text/latex": [
       "A matrix: 4 × 2 of type dbl\n",
       "\\begin{tabular}{ll}\n",
       "\t  2 &  4\\\\\n",
       "\t  6 &  8\\\\\n",
       "\t 10 & 12\\\\\n",
       "\t 14 & 16\\\\\n",
       "\\end{tabular}\n"
      ],
      "text/markdown": [
       "\n",
       "A matrix: 4 × 2 of type dbl\n",
       "\n",
       "|  2 |  4 |\n",
       "|  6 |  8 |\n",
       "| 10 | 12 |\n",
       "| 14 | 16 |\n",
       "\n"
      ],
      "text/plain": [
       "     [,1] [,2]\n",
       "[1,]  2    4  \n",
       "[2,]  6    8  \n",
       "[3,] 10   12  \n",
       "[4,] 14   16  "
      ]
     },
     "metadata": {},
     "output_type": "display_data"
    }
   ],
   "source": [
    "x + 2*x +3*x -4*x"
   ]
  },
  {
   "cell_type": "code",
   "execution_count": 18,
   "id": "0fe53947",
   "metadata": {},
   "outputs": [
    {
     "data": {
      "text/html": [
       "<table class=\"dataframe\">\n",
       "<caption>A matrix: 2 × 2 of type dbl</caption>\n",
       "<tbody>\n",
       "\t<tr><td> 84</td><td>100</td></tr>\n",
       "\t<tr><td>100</td><td>120</td></tr>\n",
       "</tbody>\n",
       "</table>\n"
      ],
      "text/latex": [
       "A matrix: 2 × 2 of type dbl\n",
       "\\begin{tabular}{ll}\n",
       "\t  84 & 100\\\\\n",
       "\t 100 & 120\\\\\n",
       "\\end{tabular}\n"
      ],
      "text/markdown": [
       "\n",
       "A matrix: 2 × 2 of type dbl\n",
       "\n",
       "|  84 | 100 |\n",
       "| 100 | 120 |\n",
       "\n"
      ],
      "text/plain": [
       "     [,1] [,2]\n",
       "[1,]  84  100 \n",
       "[2,] 100  120 "
      ]
     },
     "metadata": {},
     "output_type": "display_data"
    }
   ],
   "source": [
    "y <- matrix(data = c(84,100,100,120),nrow=2,ncol = 2,byrow = TRUE)\n",
    "y"
   ]
  },
  {
   "cell_type": "code",
   "execution_count": 19,
   "id": "33834979",
   "metadata": {},
   "outputs": [
    {
     "data": {
      "text/html": [
       "<table class=\"dataframe\">\n",
       "<caption>A matrix: 2 × 2 of type dbl</caption>\n",
       "<tbody>\n",
       "\t<tr><td> 1.50</td><td>-1.25</td></tr>\n",
       "\t<tr><td>-1.25</td><td> 1.05</td></tr>\n",
       "</tbody>\n",
       "</table>\n"
      ],
      "text/latex": [
       "A matrix: 2 × 2 of type dbl\n",
       "\\begin{tabular}{ll}\n",
       "\t  1.50 & -1.25\\\\\n",
       "\t -1.25 &  1.05\\\\\n",
       "\\end{tabular}\n"
      ],
      "text/markdown": [
       "\n",
       "A matrix: 2 × 2 of type dbl\n",
       "\n",
       "|  1.50 | -1.25 |\n",
       "| -1.25 |  1.05 |\n",
       "\n"
      ],
      "text/plain": [
       "     [,1]  [,2] \n",
       "[1,]  1.50 -1.25\n",
       "[2,] -1.25  1.05"
      ]
     },
     "metadata": {},
     "output_type": "display_data"
    }
   ],
   "source": [
    "# Finding Inverse:\n",
    "solve(y)"
   ]
  },
  {
   "cell_type": "code",
   "execution_count": 20,
   "id": "2b313f35",
   "metadata": {},
   "outputs": [
    {
     "data": {
      "text/html": [
       "<table class=\"dataframe\">\n",
       "<caption>A matrix: 2 × 2 of type dbl</caption>\n",
       "<tbody>\n",
       "\t<tr><td>1</td><td>0</td></tr>\n",
       "\t<tr><td>0</td><td>1</td></tr>\n",
       "</tbody>\n",
       "</table>\n"
      ],
      "text/latex": [
       "A matrix: 2 × 2 of type dbl\n",
       "\\begin{tabular}{ll}\n",
       "\t 1 & 0\\\\\n",
       "\t 0 & 1\\\\\n",
       "\\end{tabular}\n"
      ],
      "text/markdown": [
       "\n",
       "A matrix: 2 × 2 of type dbl\n",
       "\n",
       "| 1 | 0 |\n",
       "| 0 | 1 |\n",
       "\n"
      ],
      "text/plain": [
       "     [,1] [,2]\n",
       "[1,] 1    0   \n",
       "[2,] 0    1   "
      ]
     },
     "metadata": {},
     "output_type": "display_data"
    }
   ],
   "source": [
    "y%*% solve(y)"
   ]
  },
  {
   "cell_type": "code",
   "execution_count": 21,
   "id": "55496fe5",
   "metadata": {},
   "outputs": [
    {
     "data": {
      "text/plain": [
       "eigen() decomposition\n",
       "$values\n",
       "[1] 203.6070864   0.3929136\n",
       "\n",
       "$vectors\n",
       "          [,1]       [,2]\n",
       "[1,] 0.6414230 -0.7671874\n",
       "[2,] 0.7671874  0.6414230\n"
      ]
     },
     "metadata": {},
     "output_type": "display_data"
    }
   ],
   "source": [
    "# Eigen Values & Eigen Vectors \n",
    "eigen(y)"
   ]
  }
 ],
 "metadata": {
  "kernelspec": {
   "display_name": "R",
   "language": "R",
   "name": "ir"
  },
  "language_info": {
   "codemirror_mode": "r",
   "file_extension": ".r",
   "mimetype": "text/x-r-source",
   "name": "R",
   "pygments_lexer": "r",
   "version": "4.2.2"
  }
 },
 "nbformat": 4,
 "nbformat_minor": 5
}
