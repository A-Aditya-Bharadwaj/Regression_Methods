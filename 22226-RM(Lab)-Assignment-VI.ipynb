{
 "cells": [
  {
   "cell_type": "markdown",
   "id": "8a9cf1be",
   "metadata": {},
   "source": [
    "## Name: A Aditya Bhardwaj\n",
    "### Reg.No. : 22226"
   ]
  },
  {
   "cell_type": "markdown",
   "id": "5a37b0b9",
   "metadata": {},
   "source": [
    "### <Center> Regression Methods (Lab) Assignment-VI\n",
    " "
   ]
  },
  {
   "cell_type": "markdown",
   "id": "24e16bc8",
   "metadata": {},
   "source": [
    "### How to read csv files in R"
   ]
  },
  {
   "cell_type": "code",
   "execution_count": 10,
   "id": "03386afa",
   "metadata": {},
   "outputs": [
    {
     "data": {
      "text/html": [
       "<table class=\"dataframe\">\n",
       "<caption>A data.frame: 6 × 12</caption>\n",
       "<thead>\n",
       "\t<tr><th></th><th scope=col>price</th><th scope=col>lotsize</th><th scope=col>bedrooms</th><th scope=col>bathrms</th><th scope=col>stories</th><th scope=col>driveway</th><th scope=col>recroom</th><th scope=col>fullbase</th><th scope=col>gashw</th><th scope=col>airco</th><th scope=col>garagepl</th><th scope=col>prefarea</th></tr>\n",
       "\t<tr><th></th><th scope=col>&lt;dbl&gt;</th><th scope=col>&lt;int&gt;</th><th scope=col>&lt;int&gt;</th><th scope=col>&lt;int&gt;</th><th scope=col>&lt;int&gt;</th><th scope=col>&lt;chr&gt;</th><th scope=col>&lt;chr&gt;</th><th scope=col>&lt;chr&gt;</th><th scope=col>&lt;chr&gt;</th><th scope=col>&lt;chr&gt;</th><th scope=col>&lt;int&gt;</th><th scope=col>&lt;chr&gt;</th></tr>\n",
       "</thead>\n",
       "<tbody>\n",
       "\t<tr><th scope=row>1</th><td>42000</td><td>5850</td><td>3</td><td>1</td><td>2</td><td>yes</td><td>no </td><td>yes</td><td>no</td><td>no </td><td>1</td><td>no</td></tr>\n",
       "\t<tr><th scope=row>2</th><td>38500</td><td>4000</td><td>2</td><td>1</td><td>1</td><td>yes</td><td>no </td><td>no </td><td>no</td><td>no </td><td>0</td><td>no</td></tr>\n",
       "\t<tr><th scope=row>3</th><td>49500</td><td>3060</td><td>3</td><td>1</td><td>1</td><td>yes</td><td>no </td><td>no </td><td>no</td><td>no </td><td>0</td><td>no</td></tr>\n",
       "\t<tr><th scope=row>4</th><td>60500</td><td>6650</td><td>3</td><td>1</td><td>2</td><td>yes</td><td>yes</td><td>no </td><td>no</td><td>no </td><td>0</td><td>no</td></tr>\n",
       "\t<tr><th scope=row>5</th><td>61000</td><td>6360</td><td>2</td><td>1</td><td>1</td><td>yes</td><td>no </td><td>no </td><td>no</td><td>no </td><td>0</td><td>no</td></tr>\n",
       "\t<tr><th scope=row>6</th><td>66000</td><td>4160</td><td>3</td><td>1</td><td>1</td><td>yes</td><td>yes</td><td>yes</td><td>no</td><td>yes</td><td>0</td><td>no</td></tr>\n",
       "</tbody>\n",
       "</table>\n"
      ],
      "text/latex": [
       "A data.frame: 6 × 12\n",
       "\\begin{tabular}{r|llllllllllll}\n",
       "  & price & lotsize & bedrooms & bathrms & stories & driveway & recroom & fullbase & gashw & airco & garagepl & prefarea\\\\\n",
       "  & <dbl> & <int> & <int> & <int> & <int> & <chr> & <chr> & <chr> & <chr> & <chr> & <int> & <chr>\\\\\n",
       "\\hline\n",
       "\t1 & 42000 & 5850 & 3 & 1 & 2 & yes & no  & yes & no & no  & 1 & no\\\\\n",
       "\t2 & 38500 & 4000 & 2 & 1 & 1 & yes & no  & no  & no & no  & 0 & no\\\\\n",
       "\t3 & 49500 & 3060 & 3 & 1 & 1 & yes & no  & no  & no & no  & 0 & no\\\\\n",
       "\t4 & 60500 & 6650 & 3 & 1 & 2 & yes & yes & no  & no & no  & 0 & no\\\\\n",
       "\t5 & 61000 & 6360 & 2 & 1 & 1 & yes & no  & no  & no & no  & 0 & no\\\\\n",
       "\t6 & 66000 & 4160 & 3 & 1 & 1 & yes & yes & yes & no & yes & 0 & no\\\\\n",
       "\\end{tabular}\n"
      ],
      "text/markdown": [
       "\n",
       "A data.frame: 6 × 12\n",
       "\n",
       "| <!--/--> | price &lt;dbl&gt; | lotsize &lt;int&gt; | bedrooms &lt;int&gt; | bathrms &lt;int&gt; | stories &lt;int&gt; | driveway &lt;chr&gt; | recroom &lt;chr&gt; | fullbase &lt;chr&gt; | gashw &lt;chr&gt; | airco &lt;chr&gt; | garagepl &lt;int&gt; | prefarea &lt;chr&gt; |\n",
       "|---|---|---|---|---|---|---|---|---|---|---|---|---|\n",
       "| 1 | 42000 | 5850 | 3 | 1 | 2 | yes | no  | yes | no | no  | 1 | no |\n",
       "| 2 | 38500 | 4000 | 2 | 1 | 1 | yes | no  | no  | no | no  | 0 | no |\n",
       "| 3 | 49500 | 3060 | 3 | 1 | 1 | yes | no  | no  | no | no  | 0 | no |\n",
       "| 4 | 60500 | 6650 | 3 | 1 | 2 | yes | yes | no  | no | no  | 0 | no |\n",
       "| 5 | 61000 | 6360 | 2 | 1 | 1 | yes | no  | no  | no | no  | 0 | no |\n",
       "| 6 | 66000 | 4160 | 3 | 1 | 1 | yes | yes | yes | no | yes | 0 | no |\n",
       "\n"
      ],
      "text/plain": [
       "  price lotsize bedrooms bathrms stories driveway recroom fullbase gashw airco\n",
       "1 42000 5850    3        1       2       yes      no      yes      no    no   \n",
       "2 38500 4000    2        1       1       yes      no      no       no    no   \n",
       "3 49500 3060    3        1       1       yes      no      no       no    no   \n",
       "4 60500 6650    3        1       2       yes      yes     no       no    no   \n",
       "5 61000 6360    2        1       1       yes      no      no       no    no   \n",
       "6 66000 4160    3        1       1       yes      yes     yes      no    yes  \n",
       "  garagepl prefarea\n",
       "1 1        no      \n",
       "2 0        no      \n",
       "3 0        no      \n",
       "4 0        no      \n",
       "5 0        no      \n",
       "6 0        no      "
      ]
     },
     "metadata": {},
     "output_type": "display_data"
    }
   ],
   "source": [
    "house <- read.csv(\"House.csv\")\n",
    "head(house)"
   ]
  },
  {
   "cell_type": "markdown",
   "id": "8f922caf",
   "metadata": {},
   "source": [
    "### Analyzing the CSV File"
   ]
  },
  {
   "cell_type": "code",
   "execution_count": 14,
   "id": "496b2828",
   "metadata": {},
   "outputs": [
    {
     "data": {
      "text/html": [
       "TRUE"
      ],
      "text/latex": [
       "TRUE"
      ],
      "text/markdown": [
       "TRUE"
      ],
      "text/plain": [
       "[1] TRUE"
      ]
     },
     "metadata": {},
     "output_type": "display_data"
    }
   ],
   "source": [
    "# By default the read.csv() fuction gives the output as a data frame\n",
    "is.data.frame(house)"
   ]
  },
  {
   "cell_type": "code",
   "execution_count": 16,
   "id": "66593998",
   "metadata": {},
   "outputs": [
    {
     "name": "stdout",
     "output_type": "stream",
     "text": [
      "[1] \"The number of columns in the data frame are:\"\n",
      "[1] 12\n",
      "[1] \"The number of rows in the data frame are:\"\n",
      "[1] 546\n"
     ]
    }
   ],
   "source": [
    "print(\"The number of columns in the data frame are:\")\n",
    "print(ncol(house))\n",
    "print(\"The number of rows in the data frame are:\")\n",
    "print(nrow(house))"
   ]
  },
  {
   "cell_type": "markdown",
   "id": "468ea3ec",
   "metadata": {},
   "source": [
    "### Get the Maximum Price"
   ]
  },
  {
   "cell_type": "code",
   "execution_count": 17,
   "id": "f3654e7a",
   "metadata": {},
   "outputs": [
    {
     "data": {
      "text/html": [
       "190000"
      ],
      "text/latex": [
       "190000"
      ],
      "text/markdown": [
       "190000"
      ],
      "text/plain": [
       "[1] 190000"
      ]
     },
     "metadata": {},
     "output_type": "display_data"
    }
   ],
   "source": [
    "max_price <- max(house$price)\n",
    "max_price"
   ]
  },
  {
   "cell_type": "markdown",
   "id": "85fa798a",
   "metadata": {},
   "source": [
    "### Get the details of the house with maximum price"
   ]
  },
  {
   "cell_type": "code",
   "execution_count": 18,
   "id": "28e0d1e7",
   "metadata": {},
   "outputs": [
    {
     "data": {
      "text/html": [
       "<table class=\"dataframe\">\n",
       "<caption>A data.frame: 1 × 12</caption>\n",
       "<thead>\n",
       "\t<tr><th></th><th scope=col>price</th><th scope=col>lotsize</th><th scope=col>bedrooms</th><th scope=col>bathrms</th><th scope=col>stories</th><th scope=col>driveway</th><th scope=col>recroom</th><th scope=col>fullbase</th><th scope=col>gashw</th><th scope=col>airco</th><th scope=col>garagepl</th><th scope=col>prefarea</th></tr>\n",
       "\t<tr><th></th><th scope=col>&lt;dbl&gt;</th><th scope=col>&lt;int&gt;</th><th scope=col>&lt;int&gt;</th><th scope=col>&lt;int&gt;</th><th scope=col>&lt;int&gt;</th><th scope=col>&lt;chr&gt;</th><th scope=col>&lt;chr&gt;</th><th scope=col>&lt;chr&gt;</th><th scope=col>&lt;chr&gt;</th><th scope=col>&lt;chr&gt;</th><th scope=col>&lt;int&gt;</th><th scope=col>&lt;chr&gt;</th></tr>\n",
       "</thead>\n",
       "<tbody>\n",
       "\t<tr><th scope=row>378</th><td>190000</td><td>7420</td><td>4</td><td>2</td><td>3</td><td>yes</td><td>no</td><td>no</td><td>no</td><td>yes</td><td>2</td><td>yes</td></tr>\n",
       "</tbody>\n",
       "</table>\n"
      ],
      "text/latex": [
       "A data.frame: 1 × 12\n",
       "\\begin{tabular}{r|llllllllllll}\n",
       "  & price & lotsize & bedrooms & bathrms & stories & driveway & recroom & fullbase & gashw & airco & garagepl & prefarea\\\\\n",
       "  & <dbl> & <int> & <int> & <int> & <int> & <chr> & <chr> & <chr> & <chr> & <chr> & <int> & <chr>\\\\\n",
       "\\hline\n",
       "\t378 & 190000 & 7420 & 4 & 2 & 3 & yes & no & no & no & yes & 2 & yes\\\\\n",
       "\\end{tabular}\n"
      ],
      "text/markdown": [
       "\n",
       "A data.frame: 1 × 12\n",
       "\n",
       "| <!--/--> | price &lt;dbl&gt; | lotsize &lt;int&gt; | bedrooms &lt;int&gt; | bathrms &lt;int&gt; | stories &lt;int&gt; | driveway &lt;chr&gt; | recroom &lt;chr&gt; | fullbase &lt;chr&gt; | gashw &lt;chr&gt; | airco &lt;chr&gt; | garagepl &lt;int&gt; | prefarea &lt;chr&gt; |\n",
       "|---|---|---|---|---|---|---|---|---|---|---|---|---|\n",
       "| 378 | 190000 | 7420 | 4 | 2 | 3 | yes | no | no | no | yes | 2 | yes |\n",
       "\n"
      ],
      "text/plain": [
       "    price  lotsize bedrooms bathrms stories driveway recroom fullbase gashw\n",
       "378 190000 7420    4        2       3       yes      no      no       no   \n",
       "    airco garagepl prefarea\n",
       "378 yes   2        yes     "
      ]
     },
     "metadata": {},
     "output_type": "display_data"
    }
   ],
   "source": [
    "max_price_house <- subset(house, price == max_price)\n",
    "max_price_house"
   ]
  },
  {
   "cell_type": "markdown",
   "id": "d8daa9c8",
   "metadata": {},
   "source": [
    "### Get all the house with more than two bedrooms"
   ]
  },
  {
   "cell_type": "code",
   "execution_count": 20,
   "id": "1a98c758",
   "metadata": {},
   "outputs": [
    {
     "data": {
      "text/html": [
       "<table class=\"dataframe\">\n",
       "<caption>A data.frame: 6 × 12</caption>\n",
       "<thead>\n",
       "\t<tr><th></th><th scope=col>price</th><th scope=col>lotsize</th><th scope=col>bedrooms</th><th scope=col>bathrms</th><th scope=col>stories</th><th scope=col>driveway</th><th scope=col>recroom</th><th scope=col>fullbase</th><th scope=col>gashw</th><th scope=col>airco</th><th scope=col>garagepl</th><th scope=col>prefarea</th></tr>\n",
       "\t<tr><th></th><th scope=col>&lt;dbl&gt;</th><th scope=col>&lt;int&gt;</th><th scope=col>&lt;int&gt;</th><th scope=col>&lt;int&gt;</th><th scope=col>&lt;int&gt;</th><th scope=col>&lt;chr&gt;</th><th scope=col>&lt;chr&gt;</th><th scope=col>&lt;chr&gt;</th><th scope=col>&lt;chr&gt;</th><th scope=col>&lt;chr&gt;</th><th scope=col>&lt;int&gt;</th><th scope=col>&lt;chr&gt;</th></tr>\n",
       "</thead>\n",
       "<tbody>\n",
       "\t<tr><th scope=row>1</th><td>42000</td><td>5850</td><td>3</td><td>1</td><td>2</td><td>yes</td><td>no </td><td>yes</td><td>no</td><td>no </td><td>1</td><td>no</td></tr>\n",
       "\t<tr><th scope=row>3</th><td>49500</td><td>3060</td><td>3</td><td>1</td><td>1</td><td>yes</td><td>no </td><td>no </td><td>no</td><td>no </td><td>0</td><td>no</td></tr>\n",
       "\t<tr><th scope=row>4</th><td>60500</td><td>6650</td><td>3</td><td>1</td><td>2</td><td>yes</td><td>yes</td><td>no </td><td>no</td><td>no </td><td>0</td><td>no</td></tr>\n",
       "\t<tr><th scope=row>6</th><td>66000</td><td>4160</td><td>3</td><td>1</td><td>1</td><td>yes</td><td>yes</td><td>yes</td><td>no</td><td>yes</td><td>0</td><td>no</td></tr>\n",
       "\t<tr><th scope=row>7</th><td>66000</td><td>3880</td><td>3</td><td>2</td><td>2</td><td>yes</td><td>no </td><td>yes</td><td>no</td><td>no </td><td>2</td><td>no</td></tr>\n",
       "\t<tr><th scope=row>8</th><td>69000</td><td>4160</td><td>3</td><td>1</td><td>3</td><td>yes</td><td>no </td><td>no </td><td>no</td><td>no </td><td>0</td><td>no</td></tr>\n",
       "</tbody>\n",
       "</table>\n"
      ],
      "text/latex": [
       "A data.frame: 6 × 12\n",
       "\\begin{tabular}{r|llllllllllll}\n",
       "  & price & lotsize & bedrooms & bathrms & stories & driveway & recroom & fullbase & gashw & airco & garagepl & prefarea\\\\\n",
       "  & <dbl> & <int> & <int> & <int> & <int> & <chr> & <chr> & <chr> & <chr> & <chr> & <int> & <chr>\\\\\n",
       "\\hline\n",
       "\t1 & 42000 & 5850 & 3 & 1 & 2 & yes & no  & yes & no & no  & 1 & no\\\\\n",
       "\t3 & 49500 & 3060 & 3 & 1 & 1 & yes & no  & no  & no & no  & 0 & no\\\\\n",
       "\t4 & 60500 & 6650 & 3 & 1 & 2 & yes & yes & no  & no & no  & 0 & no\\\\\n",
       "\t6 & 66000 & 4160 & 3 & 1 & 1 & yes & yes & yes & no & yes & 0 & no\\\\\n",
       "\t7 & 66000 & 3880 & 3 & 2 & 2 & yes & no  & yes & no & no  & 2 & no\\\\\n",
       "\t8 & 69000 & 4160 & 3 & 1 & 3 & yes & no  & no  & no & no  & 0 & no\\\\\n",
       "\\end{tabular}\n"
      ],
      "text/markdown": [
       "\n",
       "A data.frame: 6 × 12\n",
       "\n",
       "| <!--/--> | price &lt;dbl&gt; | lotsize &lt;int&gt; | bedrooms &lt;int&gt; | bathrms &lt;int&gt; | stories &lt;int&gt; | driveway &lt;chr&gt; | recroom &lt;chr&gt; | fullbase &lt;chr&gt; | gashw &lt;chr&gt; | airco &lt;chr&gt; | garagepl &lt;int&gt; | prefarea &lt;chr&gt; |\n",
       "|---|---|---|---|---|---|---|---|---|---|---|---|---|\n",
       "| 1 | 42000 | 5850 | 3 | 1 | 2 | yes | no  | yes | no | no  | 1 | no |\n",
       "| 3 | 49500 | 3060 | 3 | 1 | 1 | yes | no  | no  | no | no  | 0 | no |\n",
       "| 4 | 60500 | 6650 | 3 | 1 | 2 | yes | yes | no  | no | no  | 0 | no |\n",
       "| 6 | 66000 | 4160 | 3 | 1 | 1 | yes | yes | yes | no | yes | 0 | no |\n",
       "| 7 | 66000 | 3880 | 3 | 2 | 2 | yes | no  | yes | no | no  | 2 | no |\n",
       "| 8 | 69000 | 4160 | 3 | 1 | 3 | yes | no  | no  | no | no  | 0 | no |\n",
       "\n"
      ],
      "text/plain": [
       "  price lotsize bedrooms bathrms stories driveway recroom fullbase gashw airco\n",
       "1 42000 5850    3        1       2       yes      no      yes      no    no   \n",
       "3 49500 3060    3        1       1       yes      no      no       no    no   \n",
       "4 60500 6650    3        1       2       yes      yes     no       no    no   \n",
       "6 66000 4160    3        1       1       yes      yes     yes      no    yes  \n",
       "7 66000 3880    3        2       2       yes      no      yes      no    no   \n",
       "8 69000 4160    3        1       3       yes      no      no       no    no   \n",
       "  garagepl prefarea\n",
       "1 1        no      \n",
       "3 0        no      \n",
       "4 0        no      \n",
       "6 0        no      \n",
       "7 2        no      \n",
       "8 0        no      "
      ]
     },
     "metadata": {},
     "output_type": "display_data"
    }
   ],
   "source": [
    "more_bedrooms <- subset(house, bedrooms > 2)\n",
    "head(more_bedrooms)"
   ]
  },
  {
   "cell_type": "markdown",
   "id": "f8beeb5b",
   "metadata": {},
   "source": [
    "### Get all the house with more than two bedrooms but price is less than 40000"
   ]
  },
  {
   "cell_type": "code",
   "execution_count": 22,
   "id": "f7076f12",
   "metadata": {},
   "outputs": [
    {
     "data": {
      "text/html": [
       "<table class=\"dataframe\">\n",
       "<caption>A data.frame: 6 × 12</caption>\n",
       "<thead>\n",
       "\t<tr><th></th><th scope=col>price</th><th scope=col>lotsize</th><th scope=col>bedrooms</th><th scope=col>bathrms</th><th scope=col>stories</th><th scope=col>driveway</th><th scope=col>recroom</th><th scope=col>fullbase</th><th scope=col>gashw</th><th scope=col>airco</th><th scope=col>garagepl</th><th scope=col>prefarea</th></tr>\n",
       "\t<tr><th></th><th scope=col>&lt;dbl&gt;</th><th scope=col>&lt;int&gt;</th><th scope=col>&lt;int&gt;</th><th scope=col>&lt;int&gt;</th><th scope=col>&lt;int&gt;</th><th scope=col>&lt;chr&gt;</th><th scope=col>&lt;chr&gt;</th><th scope=col>&lt;chr&gt;</th><th scope=col>&lt;chr&gt;</th><th scope=col>&lt;chr&gt;</th><th scope=col>&lt;int&gt;</th><th scope=col>&lt;chr&gt;</th></tr>\n",
       "</thead>\n",
       "<tbody>\n",
       "\t<tr><th scope=row>13</th><td>27000</td><td>1700</td><td>3</td><td>1</td><td>2</td><td>yes</td><td>no </td><td>no</td><td>no</td><td>no </td><td>0</td><td>no</td></tr>\n",
       "\t<tr><th scope=row>14</th><td>36000</td><td>2880</td><td>3</td><td>1</td><td>1</td><td>no </td><td>no </td><td>no</td><td>no</td><td>no </td><td>0</td><td>no</td></tr>\n",
       "\t<tr><th scope=row>23</th><td>37900</td><td>4000</td><td>3</td><td>1</td><td>2</td><td>yes</td><td>no </td><td>no</td><td>no</td><td>yes</td><td>0</td><td>no</td></tr>\n",
       "\t<tr><th scope=row>55</th><td>38000</td><td>3630</td><td>3</td><td>3</td><td>2</td><td>no </td><td>yes</td><td>no</td><td>no</td><td>no </td><td>0</td><td>no</td></tr>\n",
       "\t<tr><th scope=row>57</th><td>25245</td><td>2400</td><td>3</td><td>1</td><td>1</td><td>no </td><td>no </td><td>no</td><td>no</td><td>no </td><td>0</td><td>no</td></tr>\n",
       "\t<tr><th scope=row>59</th><td>35500</td><td>4400</td><td>3</td><td>1</td><td>2</td><td>yes</td><td>no </td><td>no</td><td>no</td><td>no </td><td>0</td><td>no</td></tr>\n",
       "</tbody>\n",
       "</table>\n"
      ],
      "text/latex": [
       "A data.frame: 6 × 12\n",
       "\\begin{tabular}{r|llllllllllll}\n",
       "  & price & lotsize & bedrooms & bathrms & stories & driveway & recroom & fullbase & gashw & airco & garagepl & prefarea\\\\\n",
       "  & <dbl> & <int> & <int> & <int> & <int> & <chr> & <chr> & <chr> & <chr> & <chr> & <int> & <chr>\\\\\n",
       "\\hline\n",
       "\t13 & 27000 & 1700 & 3 & 1 & 2 & yes & no  & no & no & no  & 0 & no\\\\\n",
       "\t14 & 36000 & 2880 & 3 & 1 & 1 & no  & no  & no & no & no  & 0 & no\\\\\n",
       "\t23 & 37900 & 4000 & 3 & 1 & 2 & yes & no  & no & no & yes & 0 & no\\\\\n",
       "\t55 & 38000 & 3630 & 3 & 3 & 2 & no  & yes & no & no & no  & 0 & no\\\\\n",
       "\t57 & 25245 & 2400 & 3 & 1 & 1 & no  & no  & no & no & no  & 0 & no\\\\\n",
       "\t59 & 35500 & 4400 & 3 & 1 & 2 & yes & no  & no & no & no  & 0 & no\\\\\n",
       "\\end{tabular}\n"
      ],
      "text/markdown": [
       "\n",
       "A data.frame: 6 × 12\n",
       "\n",
       "| <!--/--> | price &lt;dbl&gt; | lotsize &lt;int&gt; | bedrooms &lt;int&gt; | bathrms &lt;int&gt; | stories &lt;int&gt; | driveway &lt;chr&gt; | recroom &lt;chr&gt; | fullbase &lt;chr&gt; | gashw &lt;chr&gt; | airco &lt;chr&gt; | garagepl &lt;int&gt; | prefarea &lt;chr&gt; |\n",
       "|---|---|---|---|---|---|---|---|---|---|---|---|---|\n",
       "| 13 | 27000 | 1700 | 3 | 1 | 2 | yes | no  | no | no | no  | 0 | no |\n",
       "| 14 | 36000 | 2880 | 3 | 1 | 1 | no  | no  | no | no | no  | 0 | no |\n",
       "| 23 | 37900 | 4000 | 3 | 1 | 2 | yes | no  | no | no | yes | 0 | no |\n",
       "| 55 | 38000 | 3630 | 3 | 3 | 2 | no  | yes | no | no | no  | 0 | no |\n",
       "| 57 | 25245 | 2400 | 3 | 1 | 1 | no  | no  | no | no | no  | 0 | no |\n",
       "| 59 | 35500 | 4400 | 3 | 1 | 2 | yes | no  | no | no | no  | 0 | no |\n",
       "\n"
      ],
      "text/plain": [
       "   price lotsize bedrooms bathrms stories driveway recroom fullbase gashw airco\n",
       "13 27000 1700    3        1       2       yes      no      no       no    no   \n",
       "14 36000 2880    3        1       1       no       no      no       no    no   \n",
       "23 37900 4000    3        1       2       yes      no      no       no    yes  \n",
       "55 38000 3630    3        3       2       no       yes     no       no    no   \n",
       "57 25245 2400    3        1       1       no       no      no       no    no   \n",
       "59 35500 4400    3        1       2       yes      no      no       no    no   \n",
       "   garagepl prefarea\n",
       "13 0        no      \n",
       "14 0        no      \n",
       "23 0        no      \n",
       "55 0        no      \n",
       "57 0        no      \n",
       "59 0        no      "
      ]
     },
     "metadata": {},
     "output_type": "display_data"
    }
   ],
   "source": [
    "cheap_house <- subset(house, bedrooms > 2 & price < 40000)\n",
    "head(cheap_house)"
   ]
  },
  {
   "cell_type": "markdown",
   "id": "94e75ff2",
   "metadata": {},
   "source": [
    "### Writing into a CSV File"
   ]
  },
  {
   "cell_type": "code",
   "execution_count": 23,
   "id": "4c20918e",
   "metadata": {},
   "outputs": [
    {
     "data": {
      "text/html": [
       "<table class=\"dataframe\">\n",
       "<caption>A data.frame: 6 × 13</caption>\n",
       "<thead>\n",
       "\t<tr><th></th><th scope=col>X</th><th scope=col>price</th><th scope=col>lotsize</th><th scope=col>bedrooms</th><th scope=col>bathrms</th><th scope=col>stories</th><th scope=col>driveway</th><th scope=col>recroom</th><th scope=col>fullbase</th><th scope=col>gashw</th><th scope=col>airco</th><th scope=col>garagepl</th><th scope=col>prefarea</th></tr>\n",
       "\t<tr><th></th><th scope=col>&lt;int&gt;</th><th scope=col>&lt;int&gt;</th><th scope=col>&lt;int&gt;</th><th scope=col>&lt;int&gt;</th><th scope=col>&lt;int&gt;</th><th scope=col>&lt;int&gt;</th><th scope=col>&lt;chr&gt;</th><th scope=col>&lt;chr&gt;</th><th scope=col>&lt;chr&gt;</th><th scope=col>&lt;chr&gt;</th><th scope=col>&lt;chr&gt;</th><th scope=col>&lt;int&gt;</th><th scope=col>&lt;chr&gt;</th></tr>\n",
       "</thead>\n",
       "<tbody>\n",
       "\t<tr><th scope=row>1</th><td>13</td><td>27000</td><td>1700</td><td>3</td><td>1</td><td>2</td><td>yes</td><td>no </td><td>no</td><td>no</td><td>no </td><td>0</td><td>no</td></tr>\n",
       "\t<tr><th scope=row>2</th><td>14</td><td>36000</td><td>2880</td><td>3</td><td>1</td><td>1</td><td>no </td><td>no </td><td>no</td><td>no</td><td>no </td><td>0</td><td>no</td></tr>\n",
       "\t<tr><th scope=row>3</th><td>23</td><td>37900</td><td>4000</td><td>3</td><td>1</td><td>2</td><td>yes</td><td>no </td><td>no</td><td>no</td><td>yes</td><td>0</td><td>no</td></tr>\n",
       "\t<tr><th scope=row>4</th><td>55</td><td>38000</td><td>3630</td><td>3</td><td>3</td><td>2</td><td>no </td><td>yes</td><td>no</td><td>no</td><td>no </td><td>0</td><td>no</td></tr>\n",
       "\t<tr><th scope=row>5</th><td>57</td><td>25245</td><td>2400</td><td>3</td><td>1</td><td>1</td><td>no </td><td>no </td><td>no</td><td>no</td><td>no </td><td>0</td><td>no</td></tr>\n",
       "\t<tr><th scope=row>6</th><td>59</td><td>35500</td><td>4400</td><td>3</td><td>1</td><td>2</td><td>yes</td><td>no </td><td>no</td><td>no</td><td>no </td><td>0</td><td>no</td></tr>\n",
       "</tbody>\n",
       "</table>\n"
      ],
      "text/latex": [
       "A data.frame: 6 × 13\n",
       "\\begin{tabular}{r|lllllllllllll}\n",
       "  & X & price & lotsize & bedrooms & bathrms & stories & driveway & recroom & fullbase & gashw & airco & garagepl & prefarea\\\\\n",
       "  & <int> & <int> & <int> & <int> & <int> & <int> & <chr> & <chr> & <chr> & <chr> & <chr> & <int> & <chr>\\\\\n",
       "\\hline\n",
       "\t1 & 13 & 27000 & 1700 & 3 & 1 & 2 & yes & no  & no & no & no  & 0 & no\\\\\n",
       "\t2 & 14 & 36000 & 2880 & 3 & 1 & 1 & no  & no  & no & no & no  & 0 & no\\\\\n",
       "\t3 & 23 & 37900 & 4000 & 3 & 1 & 2 & yes & no  & no & no & yes & 0 & no\\\\\n",
       "\t4 & 55 & 38000 & 3630 & 3 & 3 & 2 & no  & yes & no & no & no  & 0 & no\\\\\n",
       "\t5 & 57 & 25245 & 2400 & 3 & 1 & 1 & no  & no  & no & no & no  & 0 & no\\\\\n",
       "\t6 & 59 & 35500 & 4400 & 3 & 1 & 2 & yes & no  & no & no & no  & 0 & no\\\\\n",
       "\\end{tabular}\n"
      ],
      "text/markdown": [
       "\n",
       "A data.frame: 6 × 13\n",
       "\n",
       "| <!--/--> | X &lt;int&gt; | price &lt;int&gt; | lotsize &lt;int&gt; | bedrooms &lt;int&gt; | bathrms &lt;int&gt; | stories &lt;int&gt; | driveway &lt;chr&gt; | recroom &lt;chr&gt; | fullbase &lt;chr&gt; | gashw &lt;chr&gt; | airco &lt;chr&gt; | garagepl &lt;int&gt; | prefarea &lt;chr&gt; |\n",
       "|---|---|---|---|---|---|---|---|---|---|---|---|---|---|\n",
       "| 1 | 13 | 27000 | 1700 | 3 | 1 | 2 | yes | no  | no | no | no  | 0 | no |\n",
       "| 2 | 14 | 36000 | 2880 | 3 | 1 | 1 | no  | no  | no | no | no  | 0 | no |\n",
       "| 3 | 23 | 37900 | 4000 | 3 | 1 | 2 | yes | no  | no | no | yes | 0 | no |\n",
       "| 4 | 55 | 38000 | 3630 | 3 | 3 | 2 | no  | yes | no | no | no  | 0 | no |\n",
       "| 5 | 57 | 25245 | 2400 | 3 | 1 | 1 | no  | no  | no | no | no  | 0 | no |\n",
       "| 6 | 59 | 35500 | 4400 | 3 | 1 | 2 | yes | no  | no | no | no  | 0 | no |\n",
       "\n"
      ],
      "text/plain": [
       "  X  price lotsize bedrooms bathrms stories driveway recroom fullbase gashw\n",
       "1 13 27000 1700    3        1       2       yes      no      no       no   \n",
       "2 14 36000 2880    3        1       1       no       no      no       no   \n",
       "3 23 37900 4000    3        1       2       yes      no      no       no   \n",
       "4 55 38000 3630    3        3       2       no       yes     no       no   \n",
       "5 57 25245 2400    3        1       1       no       no      no       no   \n",
       "6 59 35500 4400    3        1       2       yes      no      no       no   \n",
       "  airco garagepl prefarea\n",
       "1 no    0        no      \n",
       "2 no    0        no      \n",
       "3 yes   0        no      \n",
       "4 no    0        no      \n",
       "5 no    0        no      \n",
       "6 no    0        no      "
      ]
     },
     "metadata": {},
     "output_type": "display_data"
    }
   ],
   "source": [
    "# Write filtered data into a new file.\n",
    "write.csv(cheap_house, \"house_output.csv\")\n",
    "new_data <- read.csv(\"house_output.csv\")\n",
    "head(new_data)"
   ]
  },
  {
   "cell_type": "code",
   "execution_count": null,
   "id": "c7a5f5ce",
   "metadata": {},
   "outputs": [],
   "source": []
  }
 ],
 "metadata": {
  "kernelspec": {
   "display_name": "R",
   "language": "R",
   "name": "ir"
  },
  "language_info": {
   "codemirror_mode": "r",
   "file_extension": ".r",
   "mimetype": "text/x-r-source",
   "name": "R",
   "pygments_lexer": "r",
   "version": "4.2.2"
  }
 },
 "nbformat": 4,
 "nbformat_minor": 5
}
