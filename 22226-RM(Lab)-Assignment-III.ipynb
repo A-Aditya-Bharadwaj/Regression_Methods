{
 "cells": [
  {
   "cell_type": "markdown",
   "id": "8e8b0cca",
   "metadata": {},
   "source": [
    "## Name: A Aditya Bhardwaj\n",
    "### Reg.No. : 22226"
   ]
  },
  {
   "cell_type": "markdown",
   "id": "8ccdaed3",
   "metadata": {},
   "source": [
    "### <Center> Regression Methods (Lab) Assignment-II"
   ]
  },
  {
   "cell_type": "markdown",
   "id": "e67c9aeb",
   "metadata": {},
   "source": [
    "### User defined functions :-"
   ]
  },
  {
   "cell_type": "code",
   "execution_count": 5,
   "id": "4fc1a799",
   "metadata": {},
   "outputs": [
    {
     "name": "stdout",
     "output_type": "stream",
     "text": [
      "[1] 1728\n"
     ]
    }
   ],
   "source": [
    "# Cube of a function with 1 Argument\n",
    "\n",
    "Cube<-function(a)\n",
    "{\n",
    "    print(a^3)\n",
    "  \n",
    "}\n",
    "Cube(12)"
   ]
  },
  {
   "cell_type": "code",
   "execution_count": 4,
   "id": "9b1d5b6a",
   "metadata": {},
   "outputs": [
    {
     "name": "stdout",
     "output_type": "stream",
     "text": [
      "[1] 1\n",
      "[1] 8\n",
      "[1] 27\n",
      "[1] 64\n",
      "[1] 125\n",
      "[1] 216\n",
      "[1] 343\n",
      "[1] 512\n",
      "[1] 729\n",
      "[1] 1000\n",
      "[1] 1331\n",
      "[1] 1728\n"
     ]
    }
   ],
   "source": [
    "# Calling a Function with No Argument\n",
    "\n",
    "cube <- function(){\n",
    " for(i in 1:12) {\n",
    "     print(i^3) \n",
    "  }\n",
    "}\n",
    "cube()"
   ]
  },
  {
   "cell_type": "code",
   "execution_count": 6,
   "id": "0d0582a1",
   "metadata": {},
   "outputs": [
    {
     "name": "stdout",
     "output_type": "stream",
     "text": [
      "[1] 16\n"
     ]
    }
   ],
   "source": [
    "# Function with more than 1 Argument\n",
    "power <- function(num,exp){\n",
    "    print(num^exp)\n",
    "}\n",
    "\n",
    "power(2,4)"
   ]
  },
  {
   "cell_type": "code",
   "execution_count": 13,
   "id": "47e61601",
   "metadata": {},
   "outputs": [
    {
     "name": "stdout",
     "output_type": "stream",
     "text": [
      "[1] 20 30 40 50 60\n"
     ]
    },
    {
     "data": {
      "text/html": [
       "<span style=white-space:pre-wrap>'The mean of a is  40'</span>"
      ],
      "text/latex": [
       "'The mean of a is  40'"
      ],
      "text/markdown": [
       "<span style=white-space:pre-wrap>'The mean of a is  40'</span>"
      ],
      "text/plain": [
       "[1] \"The mean of a is  40\""
      ]
     },
     "metadata": {},
     "output_type": "display_data"
    }
   ],
   "source": [
    "# Lazy evaluation of a function\n",
    "\n",
    "mean_of_vector = function(a){\n",
    "    a = a[!is.na(a)]\n",
    "    print(a)\n",
    "    paste(\"The mean of a is \", mean(a))   \n",
    "}\n",
    "\n",
    "mean_of_vector(c(20,30,40,50,NA,60,NA))"
   ]
  },
  {
   "cell_type": "markdown",
   "id": "4aa18cf7",
   "metadata": {},
   "source": [
    "### R- Strings"
   ]
  },
  {
   "cell_type": "code",
   "execution_count": 14,
   "id": "3202b688",
   "metadata": {},
   "outputs": [
    {
     "data": {
      "text/html": [
       "'Hello World'"
      ],
      "text/latex": [
       "'Hello World'"
      ],
      "text/markdown": [
       "'Hello World'"
      ],
      "text/plain": [
       "[1] \"Hello World\""
      ]
     },
     "metadata": {},
     "output_type": "display_data"
    }
   ],
   "source": [
    "# Strings\n",
    "a<- 'Hello World'\n",
    "a"
   ]
  },
  {
   "cell_type": "code",
   "execution_count": 17,
   "id": "1b4003c0",
   "metadata": {},
   "outputs": [
    {
     "data": {
      "text/html": [
       "'hello world'"
      ],
      "text/latex": [
       "'hello world'"
      ],
      "text/markdown": [
       "'hello world'"
      ],
      "text/plain": [
       "[1] \"hello world\""
      ]
     },
     "metadata": {},
     "output_type": "display_data"
    },
    {
     "name": "stdout",
     "output_type": "stream",
     "text": [
      "hello world"
     ]
    }
   ],
   "source": [
    "# Combining two or more strings\n",
    "a <- \"hello\"\n",
    "b <- \"world\"\n",
    "paste(a,b)\n",
    "cat(a,b)"
   ]
  },
  {
   "cell_type": "code",
   "execution_count": 21,
   "id": "7f036746",
   "metadata": {},
   "outputs": [
    {
     "name": "stdout",
     "output_type": "stream",
     "text": [
      "[1] \"students_love_swami\"\n",
      "[1] \"studentsloveswami\"\n"
     ]
    }
   ],
   "source": [
    "# Using sep and collapse\n",
    "\n",
    "a<-'students'\n",
    "b<-'love'\n",
    "c<-'swami'\n",
    "\n",
    "print(paste(a,b,c,sep='_'))\n",
    "\n",
    "print(paste(a,b,c,sep='',collapse=''))"
   ]
  },
  {
   "cell_type": "code",
   "execution_count": 22,
   "id": "fe2ca128",
   "metadata": {},
   "outputs": [
    {
     "data": {
      "text/html": [
       "14"
      ],
      "text/latex": [
       "14"
      ],
      "text/markdown": [
       "14"
      ],
      "text/plain": [
       "[1] 14"
      ]
     },
     "metadata": {},
     "output_type": "display_data"
    }
   ],
   "source": [
    "# Counting number of characters\n",
    "\n",
    "a<-'Understandable'\n",
    "nchar(a) "
   ]
  },
  {
   "cell_type": "code",
   "execution_count": 23,
   "id": "41738dec",
   "metadata": {},
   "outputs": [
    {
     "name": "stdout",
     "output_type": "stream",
     "text": [
      "[1] \"NIGHT\"\n",
      "[1] \"day\"\n"
     ]
    }
   ],
   "source": [
    "# Change case\n",
    "\n",
    "up<-'DAY'\n",
    "low<-'night'\n",
    "\n",
    "# changing upper to lower\n",
    "print(toupper(low))\n",
    "\n",
    "# changing lower to upper\n",
    "print(tolower(up))\n",
    "     \n"
   ]
  },
  {
   "cell_type": "code",
   "execution_count": 24,
   "id": "9bf7680d",
   "metadata": {},
   "outputs": [
    {
     "data": {
      "text/html": [
       "'Monitor keybord'"
      ],
      "text/latex": [
       "'Monitor keybord'"
      ],
      "text/markdown": [
       "'Monitor keybord'"
      ],
      "text/plain": [
       "[1] \"Monitor keybord\""
      ]
     },
     "metadata": {},
     "output_type": "display_data"
    }
   ],
   "source": [
    "#Substring from a main string\n",
    "computer<-(\"Monitor keybord mouse cpu ups switchboard\")\n",
    "substring(computer,1,15)"
   ]
  },
  {
   "cell_type": "code",
   "execution_count": 25,
   "id": "98c6e05f",
   "metadata": {},
   "outputs": [
    {
     "name": "stdout",
     "output_type": "stream",
     "text": [
      "[1] \"left      \"\n",
      "[1] \"  center  \"\n",
      "[1] \"     right\"\n"
     ]
    }
   ],
   "source": [
    "# Format function\n",
    "\n",
    "result1 <- format(\"left\", width = 10,  justify = \"l\")\n",
    "# Placing string in the center\n",
    "result2 <- format(\"center\", width = 10,  justify = \"c\")\n",
    "# Placing string in the right\n",
    "result3 <- format(\"right\", width = 10, justify = \"r\")\n",
    " \n",
    "# Getting the different string placement\n",
    "print(result1)\n",
    "print(result2)\n",
    "print(result3)"
   ]
  },
  {
   "cell_type": "code",
   "execution_count": null,
   "id": "8d6ac97c",
   "metadata": {},
   "outputs": [],
   "source": []
  }
 ],
 "metadata": {
  "kernelspec": {
   "display_name": "R",
   "language": "R",
   "name": "ir"
  },
  "language_info": {
   "codemirror_mode": "r",
   "file_extension": ".r",
   "mimetype": "text/x-r-source",
   "name": "R",
   "pygments_lexer": "r",
   "version": "4.2.2"
  }
 },
 "nbformat": 4,
 "nbformat_minor": 5
}
