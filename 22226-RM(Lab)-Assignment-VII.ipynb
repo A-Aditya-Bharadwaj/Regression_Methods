{
 "cells": [
  {
   "cell_type": "markdown",
   "id": "315915ad",
   "metadata": {},
   "source": [
    "## Name: A Aditya Bhardwaj\n",
    "### Reg.No. : 22226"
   ]
  },
  {
   "cell_type": "markdown",
   "id": "b4d12408",
   "metadata": {},
   "source": [
    "### <Center> Regression Methods (Lab) Assignment-VII\n",
    " "
   ]
  },
  {
   "cell_type": "code",
   "execution_count": 1,
   "id": "69f57064",
   "metadata": {},
   "outputs": [],
   "source": [
    "library(tibble)"
   ]
  },
  {
   "cell_type": "code",
   "execution_count": 2,
   "id": "f4f5715d",
   "metadata": {},
   "outputs": [
    {
     "data": {
      "text/html": [
       "<table class=\"dataframe\">\n",
       "<caption>A tibble: 26 × 1</caption>\n",
       "<thead>\n",
       "\t<tr><th scope=col>x</th></tr>\n",
       "\t<tr><th scope=col>&lt;chr&gt;</th></tr>\n",
       "</thead>\n",
       "<tbody>\n",
       "\t<tr><td>a</td></tr>\n",
       "\t<tr><td>b</td></tr>\n",
       "\t<tr><td>c</td></tr>\n",
       "\t<tr><td>d</td></tr>\n",
       "\t<tr><td>e</td></tr>\n",
       "\t<tr><td>f</td></tr>\n",
       "\t<tr><td>g</td></tr>\n",
       "\t<tr><td>h</td></tr>\n",
       "\t<tr><td>i</td></tr>\n",
       "\t<tr><td>j</td></tr>\n",
       "\t<tr><td>k</td></tr>\n",
       "\t<tr><td>l</td></tr>\n",
       "\t<tr><td>m</td></tr>\n",
       "\t<tr><td>n</td></tr>\n",
       "\t<tr><td>o</td></tr>\n",
       "\t<tr><td>p</td></tr>\n",
       "\t<tr><td>q</td></tr>\n",
       "\t<tr><td>r</td></tr>\n",
       "\t<tr><td>s</td></tr>\n",
       "\t<tr><td>t</td></tr>\n",
       "\t<tr><td>u</td></tr>\n",
       "\t<tr><td>v</td></tr>\n",
       "\t<tr><td>w</td></tr>\n",
       "\t<tr><td>x</td></tr>\n",
       "\t<tr><td>y</td></tr>\n",
       "\t<tr><td>z</td></tr>\n",
       "</tbody>\n",
       "</table>\n"
      ],
      "text/latex": [
       "A tibble: 26 × 1\n",
       "\\begin{tabular}{l}\n",
       " x\\\\\n",
       " <chr>\\\\\n",
       "\\hline\n",
       "\t a\\\\\n",
       "\t b\\\\\n",
       "\t c\\\\\n",
       "\t d\\\\\n",
       "\t e\\\\\n",
       "\t f\\\\\n",
       "\t g\\\\\n",
       "\t h\\\\\n",
       "\t i\\\\\n",
       "\t j\\\\\n",
       "\t k\\\\\n",
       "\t l\\\\\n",
       "\t m\\\\\n",
       "\t n\\\\\n",
       "\t o\\\\\n",
       "\t p\\\\\n",
       "\t q\\\\\n",
       "\t r\\\\\n",
       "\t s\\\\\n",
       "\t t\\\\\n",
       "\t u\\\\\n",
       "\t v\\\\\n",
       "\t w\\\\\n",
       "\t x\\\\\n",
       "\t y\\\\\n",
       "\t z\\\\\n",
       "\\end{tabular}\n"
      ],
      "text/markdown": [
       "\n",
       "A tibble: 26 × 1\n",
       "\n",
       "| x &lt;chr&gt; |\n",
       "|---|\n",
       "| a |\n",
       "| b |\n",
       "| c |\n",
       "| d |\n",
       "| e |\n",
       "| f |\n",
       "| g |\n",
       "| h |\n",
       "| i |\n",
       "| j |\n",
       "| k |\n",
       "| l |\n",
       "| m |\n",
       "| n |\n",
       "| o |\n",
       "| p |\n",
       "| q |\n",
       "| r |\n",
       "| s |\n",
       "| t |\n",
       "| u |\n",
       "| v |\n",
       "| w |\n",
       "| x |\n",
       "| y |\n",
       "| z |\n",
       "\n"
      ],
      "text/plain": [
       "   x\n",
       "1  a\n",
       "2  b\n",
       "3  c\n",
       "4  d\n",
       "5  e\n",
       "6  f\n",
       "7  g\n",
       "8  h\n",
       "9  i\n",
       "10 j\n",
       "11 k\n",
       "12 l\n",
       "13 m\n",
       "14 n\n",
       "15 o\n",
       "16 p\n",
       "17 q\n",
       "18 r\n",
       "19 s\n",
       "20 t\n",
       "21 u\n",
       "22 v\n",
       "23 w\n",
       "24 x\n",
       "25 y\n",
       "26 z"
      ]
     },
     "metadata": {},
     "output_type": "display_data"
    }
   ],
   "source": [
    "# Creating a tibble\n",
    "tibble(x = letters)"
   ]
  },
  {
   "cell_type": "code",
   "execution_count": 3,
   "id": "106b8a3c",
   "metadata": {},
   "outputs": [
    {
     "data": {
      "text/html": [
       "<table class=\"dataframe\">\n",
       "<caption>A tibble: 3 × 2</caption>\n",
       "<thead>\n",
       "\t<tr><th scope=col>x</th><th scope=col>y</th></tr>\n",
       "\t<tr><th scope=col>&lt;int&gt;</th><th scope=col>&lt;list&gt;</th></tr>\n",
       "</thead>\n",
       "<tbody>\n",
       "\t<tr><td>1</td><td>1, 2, 3, 4, 5</td></tr>\n",
       "\t<tr><td>2</td><td>1, 2, 3, 4, 5, 6, 7, 8, 9, 10</td></tr>\n",
       "\t<tr><td>3</td><td>1, 2, 3, 4, 5, 6, 7, 8, 9, 10, 11, 12, 13, 14, 15, 16, 17, 18, 19, 20</td></tr>\n",
       "</tbody>\n",
       "</table>\n"
      ],
      "text/latex": [
       "A tibble: 3 × 2\n",
       "\\begin{tabular}{ll}\n",
       " x & y\\\\\n",
       " <int> & <list>\\\\\n",
       "\\hline\n",
       "\t 1 & 1, 2, 3, 4, 5\\\\\n",
       "\t 2 & 1, 2, 3, 4, 5, 6, 7, 8, 9, 10\\\\\n",
       "\t 3 & 1, 2, 3, 4, 5, 6, 7, 8, 9, 10, 11, 12, 13, 14, 15, 16, 17, 18, 19, 20\\\\\n",
       "\\end{tabular}\n"
      ],
      "text/markdown": [
       "\n",
       "A tibble: 3 × 2\n",
       "\n",
       "| x &lt;int&gt; | y &lt;list&gt; |\n",
       "|---|---|\n",
       "| 1 | 1, 2, 3, 4, 5 |\n",
       "| 2 | 1, 2, 3, 4, 5, 6, 7, 8, 9, 10 |\n",
       "| 3 | 1, 2, 3, 4, 5, 6, 7, 8, 9, 10, 11, 12, 13, 14, 15, 16, 17, 18, 19, 20 |\n",
       "\n"
      ],
      "text/plain": [
       "  x y                                                                    \n",
       "1 1 1, 2, 3, 4, 5                                                        \n",
       "2 2 1, 2, 3, 4, 5, 6, 7, 8, 9, 10                                        \n",
       "3 3 1, 2, 3, 4, 5, 6, 7, 8, 9, 10, 11, 12, 13, 14, 15, 16, 17, 18, 19, 20"
      ]
     },
     "metadata": {},
     "output_type": "display_data"
    }
   ],
   "source": [
    "tibble(x = 1:3, y = list(1:5, 1:10, 1:20))"
   ]
  },
  {
   "cell_type": "code",
   "execution_count": 4,
   "id": "1f69bec3",
   "metadata": {},
   "outputs": [
    {
     "data": {
      "text/html": [
       "'crazy.name'"
      ],
      "text/latex": [
       "'crazy.name'"
      ],
      "text/markdown": [
       "'crazy.name'"
      ],
      "text/plain": [
       "[1] \"crazy.name\""
      ]
     },
     "metadata": {},
     "output_type": "display_data"
    }
   ],
   "source": [
    "names(data.frame(\"crazy name\" = 1))"
   ]
  },
  {
   "cell_type": "code",
   "execution_count": 5,
   "id": "d528e1ef",
   "metadata": {},
   "outputs": [
    {
     "data": {
      "text/html": [
       "'crazy name'"
      ],
      "text/latex": [
       "'crazy name'"
      ],
      "text/markdown": [
       "'crazy name'"
      ],
      "text/plain": [
       "[1] \"crazy name\""
      ]
     },
     "metadata": {},
     "output_type": "display_data"
    }
   ],
   "source": [
    "names(tibble(\"crazy name\" = 1))"
   ]
  },
  {
   "cell_type": "code",
   "execution_count": 6,
   "id": "f02b03d5",
   "metadata": {},
   "outputs": [
    {
     "data": {
      "text/html": [
       "<table class=\"dataframe\">\n",
       "<caption>A tibble: 5 × 2</caption>\n",
       "<thead>\n",
       "\t<tr><th scope=col>x</th><th scope=col>y</th></tr>\n",
       "\t<tr><th scope=col>&lt;int&gt;</th><th scope=col>&lt;dbl&gt;</th></tr>\n",
       "</thead>\n",
       "<tbody>\n",
       "\t<tr><td>1</td><td> 1</td></tr>\n",
       "\t<tr><td>2</td><td> 4</td></tr>\n",
       "\t<tr><td>3</td><td> 9</td></tr>\n",
       "\t<tr><td>4</td><td>16</td></tr>\n",
       "\t<tr><td>5</td><td>25</td></tr>\n",
       "</tbody>\n",
       "</table>\n"
      ],
      "text/latex": [
       "A tibble: 5 × 2\n",
       "\\begin{tabular}{ll}\n",
       " x & y\\\\\n",
       " <int> & <dbl>\\\\\n",
       "\\hline\n",
       "\t 1 &  1\\\\\n",
       "\t 2 &  4\\\\\n",
       "\t 3 &  9\\\\\n",
       "\t 4 & 16\\\\\n",
       "\t 5 & 25\\\\\n",
       "\\end{tabular}\n"
      ],
      "text/markdown": [
       "\n",
       "A tibble: 5 × 2\n",
       "\n",
       "| x &lt;int&gt; | y &lt;dbl&gt; |\n",
       "|---|---|\n",
       "| 1 |  1 |\n",
       "| 2 |  4 |\n",
       "| 3 |  9 |\n",
       "| 4 | 16 |\n",
       "| 5 | 25 |\n",
       "\n"
      ],
      "text/plain": [
       "  x y \n",
       "1 1  1\n",
       "2 2  4\n",
       "3 3  9\n",
       "4 4 16\n",
       "5 5 25"
      ]
     },
     "metadata": {},
     "output_type": "display_data"
    }
   ],
   "source": [
    "tibble(x = 1:5, y = x^2)"
   ]
  },
  {
   "cell_type": "markdown",
   "id": "f19f39aa",
   "metadata": {},
   "source": [
    "#### Tibbles vs data frames"
   ]
  },
  {
   "cell_type": "code",
   "execution_count": 11,
   "id": "36fafd4f",
   "metadata": {},
   "outputs": [
    {
     "data": {
      "text/html": [
       "<table class=\"dataframe\">\n",
       "<caption>A tibble: 106 × 2</caption>\n",
       "<thead>\n",
       "\t<tr><th scope=col>x</th><th scope=col>y</th></tr>\n",
       "\t<tr><th scope=col>&lt;int&gt;</th><th scope=col>&lt;dbl&gt;</th></tr>\n",
       "</thead>\n",
       "<tbody>\n",
       "\t<tr><td>-5</td><td>5.080494e-01</td></tr>\n",
       "\t<tr><td>-4</td><td>1.524148e+00</td></tr>\n",
       "\t<tr><td>-3</td><td>4.572444e+00</td></tr>\n",
       "\t<tr><td>-2</td><td>1.371733e+01</td></tr>\n",
       "\t<tr><td>-1</td><td>4.115200e+01</td></tr>\n",
       "\t<tr><td> 0</td><td>1.234560e+02</td></tr>\n",
       "\t<tr><td> 1</td><td>3.703680e+02</td></tr>\n",
       "\t<tr><td> 2</td><td>1.111104e+03</td></tr>\n",
       "\t<tr><td> 3</td><td>3.333312e+03</td></tr>\n",
       "\t<tr><td> 4</td><td>9.999936e+03</td></tr>\n",
       "\t<tr><td> 5</td><td>2.999981e+04</td></tr>\n",
       "\t<tr><td> 6</td><td>8.999942e+04</td></tr>\n",
       "\t<tr><td> 7</td><td>2.699983e+05</td></tr>\n",
       "\t<tr><td> 8</td><td>8.099948e+05</td></tr>\n",
       "\t<tr><td> 9</td><td>2.429984e+06</td></tr>\n",
       "\t<tr><td>10</td><td>7.289953e+06</td></tr>\n",
       "\t<tr><td>11</td><td>2.186986e+07</td></tr>\n",
       "\t<tr><td>12</td><td>6.560958e+07</td></tr>\n",
       "\t<tr><td>13</td><td>1.968287e+08</td></tr>\n",
       "\t<tr><td>14</td><td>5.904862e+08</td></tr>\n",
       "\t<tr><td>15</td><td>1.771459e+09</td></tr>\n",
       "\t<tr><td>16</td><td>5.314376e+09</td></tr>\n",
       "\t<tr><td>17</td><td>1.594313e+10</td></tr>\n",
       "\t<tr><td>18</td><td>4.782938e+10</td></tr>\n",
       "\t<tr><td>19</td><td>1.434882e+11</td></tr>\n",
       "\t<tr><td>20</td><td>4.304645e+11</td></tr>\n",
       "\t<tr><td>21</td><td>1.291393e+12</td></tr>\n",
       "\t<tr><td>22</td><td>3.874180e+12</td></tr>\n",
       "\t<tr><td>23</td><td>1.162254e+13</td></tr>\n",
       "\t<tr><td>24</td><td>3.486762e+13</td></tr>\n",
       "\t<tr><td>⋮</td><td>⋮</td></tr>\n",
       "\t<tr><td> 71</td><td>9.270887e+35</td></tr>\n",
       "\t<tr><td> 72</td><td>2.781266e+36</td></tr>\n",
       "\t<tr><td> 73</td><td>8.343798e+36</td></tr>\n",
       "\t<tr><td> 74</td><td>2.503139e+37</td></tr>\n",
       "\t<tr><td> 75</td><td>7.509418e+37</td></tr>\n",
       "\t<tr><td> 76</td><td>2.252826e+38</td></tr>\n",
       "\t<tr><td> 77</td><td>6.758477e+38</td></tr>\n",
       "\t<tr><td> 78</td><td>2.027543e+39</td></tr>\n",
       "\t<tr><td> 79</td><td>6.082629e+39</td></tr>\n",
       "\t<tr><td> 80</td><td>1.824789e+40</td></tr>\n",
       "\t<tr><td> 81</td><td>5.474366e+40</td></tr>\n",
       "\t<tr><td> 82</td><td>1.642310e+41</td></tr>\n",
       "\t<tr><td> 83</td><td>4.926929e+41</td></tr>\n",
       "\t<tr><td> 84</td><td>1.478079e+42</td></tr>\n",
       "\t<tr><td> 85</td><td>4.434237e+42</td></tr>\n",
       "\t<tr><td> 86</td><td>1.330271e+43</td></tr>\n",
       "\t<tr><td> 87</td><td>3.990813e+43</td></tr>\n",
       "\t<tr><td> 88</td><td>1.197244e+44</td></tr>\n",
       "\t<tr><td> 89</td><td>3.591732e+44</td></tr>\n",
       "\t<tr><td> 90</td><td>1.077519e+45</td></tr>\n",
       "\t<tr><td> 91</td><td>3.232558e+45</td></tr>\n",
       "\t<tr><td> 92</td><td>9.697675e+45</td></tr>\n",
       "\t<tr><td> 93</td><td>2.909303e+46</td></tr>\n",
       "\t<tr><td> 94</td><td>8.727908e+46</td></tr>\n",
       "\t<tr><td> 95</td><td>2.618372e+47</td></tr>\n",
       "\t<tr><td> 96</td><td>7.855117e+47</td></tr>\n",
       "\t<tr><td> 97</td><td>2.356535e+48</td></tr>\n",
       "\t<tr><td> 98</td><td>7.069605e+48</td></tr>\n",
       "\t<tr><td> 99</td><td>2.120882e+49</td></tr>\n",
       "\t<tr><td>100</td><td>6.362645e+49</td></tr>\n",
       "</tbody>\n",
       "</table>\n"
      ],
      "text/latex": [
       "A tibble: 106 × 2\n",
       "\\begin{tabular}{ll}\n",
       " x & y\\\\\n",
       " <int> & <dbl>\\\\\n",
       "\\hline\n",
       "\t -5 & 5.080494e-01\\\\\n",
       "\t -4 & 1.524148e+00\\\\\n",
       "\t -3 & 4.572444e+00\\\\\n",
       "\t -2 & 1.371733e+01\\\\\n",
       "\t -1 & 4.115200e+01\\\\\n",
       "\t  0 & 1.234560e+02\\\\\n",
       "\t  1 & 3.703680e+02\\\\\n",
       "\t  2 & 1.111104e+03\\\\\n",
       "\t  3 & 3.333312e+03\\\\\n",
       "\t  4 & 9.999936e+03\\\\\n",
       "\t  5 & 2.999981e+04\\\\\n",
       "\t  6 & 8.999942e+04\\\\\n",
       "\t  7 & 2.699983e+05\\\\\n",
       "\t  8 & 8.099948e+05\\\\\n",
       "\t  9 & 2.429984e+06\\\\\n",
       "\t 10 & 7.289953e+06\\\\\n",
       "\t 11 & 2.186986e+07\\\\\n",
       "\t 12 & 6.560958e+07\\\\\n",
       "\t 13 & 1.968287e+08\\\\\n",
       "\t 14 & 5.904862e+08\\\\\n",
       "\t 15 & 1.771459e+09\\\\\n",
       "\t 16 & 5.314376e+09\\\\\n",
       "\t 17 & 1.594313e+10\\\\\n",
       "\t 18 & 4.782938e+10\\\\\n",
       "\t 19 & 1.434882e+11\\\\\n",
       "\t 20 & 4.304645e+11\\\\\n",
       "\t 21 & 1.291393e+12\\\\\n",
       "\t 22 & 3.874180e+12\\\\\n",
       "\t 23 & 1.162254e+13\\\\\n",
       "\t 24 & 3.486762e+13\\\\\n",
       "\t ⋮ & ⋮\\\\\n",
       "\t  71 & 9.270887e+35\\\\\n",
       "\t  72 & 2.781266e+36\\\\\n",
       "\t  73 & 8.343798e+36\\\\\n",
       "\t  74 & 2.503139e+37\\\\\n",
       "\t  75 & 7.509418e+37\\\\\n",
       "\t  76 & 2.252826e+38\\\\\n",
       "\t  77 & 6.758477e+38\\\\\n",
       "\t  78 & 2.027543e+39\\\\\n",
       "\t  79 & 6.082629e+39\\\\\n",
       "\t  80 & 1.824789e+40\\\\\n",
       "\t  81 & 5.474366e+40\\\\\n",
       "\t  82 & 1.642310e+41\\\\\n",
       "\t  83 & 4.926929e+41\\\\\n",
       "\t  84 & 1.478079e+42\\\\\n",
       "\t  85 & 4.434237e+42\\\\\n",
       "\t  86 & 1.330271e+43\\\\\n",
       "\t  87 & 3.990813e+43\\\\\n",
       "\t  88 & 1.197244e+44\\\\\n",
       "\t  89 & 3.591732e+44\\\\\n",
       "\t  90 & 1.077519e+45\\\\\n",
       "\t  91 & 3.232558e+45\\\\\n",
       "\t  92 & 9.697675e+45\\\\\n",
       "\t  93 & 2.909303e+46\\\\\n",
       "\t  94 & 8.727908e+46\\\\\n",
       "\t  95 & 2.618372e+47\\\\\n",
       "\t  96 & 7.855117e+47\\\\\n",
       "\t  97 & 2.356535e+48\\\\\n",
       "\t  98 & 7.069605e+48\\\\\n",
       "\t  99 & 2.120882e+49\\\\\n",
       "\t 100 & 6.362645e+49\\\\\n",
       "\\end{tabular}\n"
      ],
      "text/markdown": [
       "\n",
       "A tibble: 106 × 2\n",
       "\n",
       "| x &lt;int&gt; | y &lt;dbl&gt; |\n",
       "|---|---|\n",
       "| -5 | 5.080494e-01 |\n",
       "| -4 | 1.524148e+00 |\n",
       "| -3 | 4.572444e+00 |\n",
       "| -2 | 1.371733e+01 |\n",
       "| -1 | 4.115200e+01 |\n",
       "|  0 | 1.234560e+02 |\n",
       "|  1 | 3.703680e+02 |\n",
       "|  2 | 1.111104e+03 |\n",
       "|  3 | 3.333312e+03 |\n",
       "|  4 | 9.999936e+03 |\n",
       "|  5 | 2.999981e+04 |\n",
       "|  6 | 8.999942e+04 |\n",
       "|  7 | 2.699983e+05 |\n",
       "|  8 | 8.099948e+05 |\n",
       "|  9 | 2.429984e+06 |\n",
       "| 10 | 7.289953e+06 |\n",
       "| 11 | 2.186986e+07 |\n",
       "| 12 | 6.560958e+07 |\n",
       "| 13 | 1.968287e+08 |\n",
       "| 14 | 5.904862e+08 |\n",
       "| 15 | 1.771459e+09 |\n",
       "| 16 | 5.314376e+09 |\n",
       "| 17 | 1.594313e+10 |\n",
       "| 18 | 4.782938e+10 |\n",
       "| 19 | 1.434882e+11 |\n",
       "| 20 | 4.304645e+11 |\n",
       "| 21 | 1.291393e+12 |\n",
       "| 22 | 3.874180e+12 |\n",
       "| 23 | 1.162254e+13 |\n",
       "| 24 | 3.486762e+13 |\n",
       "| ⋮ | ⋮ |\n",
       "|  71 | 9.270887e+35 |\n",
       "|  72 | 2.781266e+36 |\n",
       "|  73 | 8.343798e+36 |\n",
       "|  74 | 2.503139e+37 |\n",
       "|  75 | 7.509418e+37 |\n",
       "|  76 | 2.252826e+38 |\n",
       "|  77 | 6.758477e+38 |\n",
       "|  78 | 2.027543e+39 |\n",
       "|  79 | 6.082629e+39 |\n",
       "|  80 | 1.824789e+40 |\n",
       "|  81 | 5.474366e+40 |\n",
       "|  82 | 1.642310e+41 |\n",
       "|  83 | 4.926929e+41 |\n",
       "|  84 | 1.478079e+42 |\n",
       "|  85 | 4.434237e+42 |\n",
       "|  86 | 1.330271e+43 |\n",
       "|  87 | 3.990813e+43 |\n",
       "|  88 | 1.197244e+44 |\n",
       "|  89 | 3.591732e+44 |\n",
       "|  90 | 1.077519e+45 |\n",
       "|  91 | 3.232558e+45 |\n",
       "|  92 | 9.697675e+45 |\n",
       "|  93 | 2.909303e+46 |\n",
       "|  94 | 8.727908e+46 |\n",
       "|  95 | 2.618372e+47 |\n",
       "|  96 | 7.855117e+47 |\n",
       "|  97 | 2.356535e+48 |\n",
       "|  98 | 7.069605e+48 |\n",
       "|  99 | 2.120882e+49 |\n",
       "| 100 | 6.362645e+49 |\n",
       "\n"
      ],
      "text/plain": [
       "    x   y           \n",
       "1   -5  5.080494e-01\n",
       "2   -4  1.524148e+00\n",
       "3   -3  4.572444e+00\n",
       "4   -2  1.371733e+01\n",
       "5   -1  4.115200e+01\n",
       "6    0  1.234560e+02\n",
       "7    1  3.703680e+02\n",
       "8    2  1.111104e+03\n",
       "9    3  3.333312e+03\n",
       "10   4  9.999936e+03\n",
       "11   5  2.999981e+04\n",
       "12   6  8.999942e+04\n",
       "13   7  2.699983e+05\n",
       "14   8  8.099948e+05\n",
       "15   9  2.429984e+06\n",
       "16  10  7.289953e+06\n",
       "17  11  2.186986e+07\n",
       "18  12  6.560958e+07\n",
       "19  13  1.968287e+08\n",
       "20  14  5.904862e+08\n",
       "21  15  1.771459e+09\n",
       "22  16  5.314376e+09\n",
       "23  17  1.594313e+10\n",
       "24  18  4.782938e+10\n",
       "25  19  1.434882e+11\n",
       "26  20  4.304645e+11\n",
       "27  21  1.291393e+12\n",
       "28  22  3.874180e+12\n",
       "29  23  1.162254e+13\n",
       "30  24  3.486762e+13\n",
       "⋮   ⋮   ⋮           \n",
       "77   71 9.270887e+35\n",
       "78   72 2.781266e+36\n",
       "79   73 8.343798e+36\n",
       "80   74 2.503139e+37\n",
       "81   75 7.509418e+37\n",
       "82   76 2.252826e+38\n",
       "83   77 6.758477e+38\n",
       "84   78 2.027543e+39\n",
       "85   79 6.082629e+39\n",
       "86   80 1.824789e+40\n",
       "87   81 5.474366e+40\n",
       "88   82 1.642310e+41\n",
       "89   83 4.926929e+41\n",
       "90   84 1.478079e+42\n",
       "91   85 4.434237e+42\n",
       "92   86 1.330271e+43\n",
       "93   87 3.990813e+43\n",
       "94   88 1.197244e+44\n",
       "95   89 3.591732e+44\n",
       "96   90 1.077519e+45\n",
       "97   91 3.232558e+45\n",
       "98   92 9.697675e+45\n",
       "99   93 2.909303e+46\n",
       "100  94 8.727908e+46\n",
       "101  95 2.618372e+47\n",
       "102  96 7.855117e+47\n",
       "103  97 2.356535e+48\n",
       "104  98 7.069605e+48\n",
       "105  99 2.120882e+49\n",
       "106 100 6.362645e+49"
      ]
     },
     "metadata": {},
     "output_type": "display_data"
    }
   ],
   "source": [
    "tibble(x = -5:100, y = 123.456 * (3^x))"
   ]
  },
  {
   "cell_type": "code",
   "execution_count": 12,
   "id": "9526fba0",
   "metadata": {},
   "outputs": [
    {
     "data": {
      "text/html": [
       "'data.frame'"
      ],
      "text/latex": [
       "'data.frame'"
      ],
      "text/markdown": [
       "'data.frame'"
      ],
      "text/plain": [
       "[1] \"data.frame\""
      ]
     },
     "metadata": {},
     "output_type": "display_data"
    }
   ],
   "source": [
    "# Subsetting\n",
    "df1 <- data.frame(x = 1:3, y = 3:1)\n",
    "class(df1[,1:2])"
   ]
  },
  {
   "cell_type": "code",
   "execution_count": 13,
   "id": "2ec80815",
   "metadata": {},
   "outputs": [
    {
     "data": {
      "text/html": [
       "'integer'"
      ],
      "text/latex": [
       "'integer'"
      ],
      "text/markdown": [
       "'integer'"
      ],
      "text/plain": [
       "[1] \"integer\""
      ]
     },
     "metadata": {},
     "output_type": "display_data"
    }
   ],
   "source": [
    "class(df[,1])"
   ]
  },
  {
   "cell_type": "code",
   "execution_count": 14,
   "id": "fbae791e",
   "metadata": {},
   "outputs": [
    {
     "data": {
      "text/html": [
       "'data.frame'"
      ],
      "text/latex": [
       "'data.frame'"
      ],
      "text/markdown": [
       "'data.frame'"
      ],
      "text/plain": [
       "[1] \"data.frame\""
      ]
     },
     "metadata": {},
     "output_type": "display_data"
    }
   ],
   "source": [
    "df2 <- tibble(x = 1:3, y = 3:1)\n",
    "class(df[,1:2])"
   ]
  },
  {
   "cell_type": "code",
   "execution_count": 15,
   "id": "3eeee8ad",
   "metadata": {},
   "outputs": [
    {
     "data": {
      "text/html": [
       "<style>\n",
       ".list-inline {list-style: none; margin:0; padding: 0}\n",
       ".list-inline>li {display: inline-block}\n",
       ".list-inline>li:not(:last-child)::after {content: \"\\00b7\"; padding: 0 .5ex}\n",
       "</style>\n",
       "<ol class=list-inline><li>'tbl_df'</li><li>'tbl'</li><li>'data.frame'</li></ol>\n"
      ],
      "text/latex": [
       "\\begin{enumerate*}\n",
       "\\item 'tbl\\_df'\n",
       "\\item 'tbl'\n",
       "\\item 'data.frame'\n",
       "\\end{enumerate*}\n"
      ],
      "text/markdown": [
       "1. 'tbl_df'\n",
       "2. 'tbl'\n",
       "3. 'data.frame'\n",
       "\n",
       "\n"
      ],
      "text/plain": [
       "[1] \"tbl_df\"     \"tbl\"        \"data.frame\""
      ]
     },
     "metadata": {},
     "output_type": "display_data"
    }
   ],
   "source": [
    "class(df2[,1])"
   ]
  },
  {
   "cell_type": "code",
   "execution_count": 16,
   "id": "132be828",
   "metadata": {},
   "outputs": [
    {
     "data": {
      "text/html": [
       "'integer'"
      ],
      "text/latex": [
       "'integer'"
      ],
      "text/markdown": [
       "'integer'"
      ],
      "text/plain": [
       "[1] \"integer\""
      ]
     },
     "metadata": {},
     "output_type": "display_data"
    }
   ],
   "source": [
    "class(df[[2]])"
   ]
  },
  {
   "cell_type": "code",
   "execution_count": 17,
   "id": "98b37886",
   "metadata": {},
   "outputs": [
    {
     "data": {
      "text/html": [
       "'integer'"
      ],
      "text/latex": [
       "'integer'"
      ],
      "text/markdown": [
       "'integer'"
      ],
      "text/plain": [
       "[1] \"integer\""
      ]
     },
     "metadata": {},
     "output_type": "display_data"
    }
   ],
   "source": [
    "class(df2$x)"
   ]
  },
  {
   "cell_type": "code",
   "execution_count": 18,
   "id": "0037d220",
   "metadata": {},
   "outputs": [
    {
     "data": {
      "text/html": [
       "1"
      ],
      "text/latex": [
       "1"
      ],
      "text/markdown": [
       "1"
      ],
      "text/plain": [
       "[1] 1"
      ]
     },
     "metadata": {},
     "output_type": "display_data"
    }
   ],
   "source": [
    "df <- data.frame(abc = 1)\n",
    "df$a"
   ]
  },
  {
   "cell_type": "code",
   "execution_count": 19,
   "id": "92047503",
   "metadata": {},
   "outputs": [
    {
     "name": "stderr",
     "output_type": "stream",
     "text": [
      "Warning message:\n",
      "\"Unknown or uninitialised column: `a`.\"\n"
     ]
    },
    {
     "data": {
      "text/plain": [
       "NULL"
      ]
     },
     "metadata": {},
     "output_type": "display_data"
    }
   ],
   "source": [
    "# Tibbles never do partial matching, and will throw a warning \n",
    "# and return NULL if the column does not exist\n",
    "\n",
    "df2 <- tibble(abc = 1)\n",
    "df2$a"
   ]
  },
  {
   "cell_type": "code",
   "execution_count": 20,
   "id": "c609f1b0",
   "metadata": {},
   "outputs": [
    {
     "data": {
      "text/html": [
       "<style>\n",
       ".list-inline {list-style: none; margin:0; padding: 0}\n",
       ".list-inline>li {display: inline-block}\n",
       ".list-inline>li:not(:last-child)::after {content: \"\\00b7\"; padding: 0 .5ex}\n",
       "</style>\n",
       "<ol class=list-inline><li>1</li><li>2</li><li>3</li></ol>\n"
      ],
      "text/latex": [
       "\\begin{enumerate*}\n",
       "\\item 1\n",
       "\\item 2\n",
       "\\item 3\n",
       "\\end{enumerate*}\n"
      ],
      "text/markdown": [
       "1. 1\n",
       "2. 2\n",
       "3. 3\n",
       "\n",
       "\n"
      ],
      "text/plain": [
       "[1] 1 2 3"
      ]
     },
     "metadata": {},
     "output_type": "display_data"
    }
   ],
   "source": [
    "data.frame(a = 1:3)[, \"a\", drop = TRUE]"
   ]
  },
  {
   "cell_type": "code",
   "execution_count": 21,
   "id": "1c15a639",
   "metadata": {},
   "outputs": [
    {
     "data": {
      "text/html": [
       "<style>\n",
       ".list-inline {list-style: none; margin:0; padding: 0}\n",
       ".list-inline>li {display: inline-block}\n",
       ".list-inline>li:not(:last-child)::after {content: \"\\00b7\"; padding: 0 .5ex}\n",
       "</style>\n",
       "<ol class=list-inline><li>1</li><li>2</li><li>3</li></ol>\n"
      ],
      "text/latex": [
       "\\begin{enumerate*}\n",
       "\\item 1\n",
       "\\item 2\n",
       "\\item 3\n",
       "\\end{enumerate*}\n"
      ],
      "text/markdown": [
       "1. 1\n",
       "2. 2\n",
       "3. 3\n",
       "\n",
       "\n"
      ],
      "text/plain": [
       "[1] 1 2 3"
      ]
     },
     "metadata": {},
     "output_type": "display_data"
    }
   ],
   "source": [
    "tibble(a = 1:3)[, \"a\", drop = TRUE]"
   ]
  },
  {
   "cell_type": "code",
   "execution_count": 23,
   "id": "a2e6a277",
   "metadata": {},
   "outputs": [
    {
     "data": {
      "text/html": [
       "<style>\n",
       ".list-inline {list-style: none; margin:0; padding: 0}\n",
       ".list-inline>li {display: inline-block}\n",
       ".list-inline>li:not(:last-child)::after {content: \"\\00b7\"; padding: 0 .5ex}\n",
       "</style>\n",
       "<ol class=list-inline><li>'a'</li><li>'b'</li><li>'c'</li></ol>\n"
      ],
      "text/latex": [
       "\\begin{enumerate*}\n",
       "\\item 'a'\n",
       "\\item 'b'\n",
       "\\item 'c'\n",
       "\\end{enumerate*}\n"
      ],
      "text/markdown": [
       "1. 'a'\n",
       "2. 'b'\n",
       "3. 'c'\n",
       "\n",
       "\n"
      ],
      "text/plain": [
       "[1] \"a\" \"b\" \"c\""
      ]
     },
     "metadata": {},
     "output_type": "display_data"
    }
   ],
   "source": [
    "df <- data.frame(a = 1:3, row.names = letters[1:3])\n",
    "rownames(df)"
   ]
  },
  {
   "cell_type": "code",
   "execution_count": 24,
   "id": "21d7da8a",
   "metadata": {},
   "outputs": [
    {
     "data": {
      "text/html": [
       "<style>\n",
       ".list-inline {list-style: none; margin:0; padding: 0}\n",
       ".list-inline>li {display: inline-block}\n",
       ".list-inline>li:not(:last-child)::after {content: \"\\00b7\"; padding: 0 .5ex}\n",
       "</style>\n",
       "<ol class=list-inline><li>'1'</li><li>'2'</li><li>'3'</li></ol>\n"
      ],
      "text/latex": [
       "\\begin{enumerate*}\n",
       "\\item '1'\n",
       "\\item '2'\n",
       "\\item '3'\n",
       "\\end{enumerate*}\n"
      ],
      "text/markdown": [
       "1. '1'\n",
       "2. '2'\n",
       "3. '3'\n",
       "\n",
       "\n"
      ],
      "text/plain": [
       "[1] \"1\" \"2\" \"3\""
      ]
     },
     "metadata": {},
     "output_type": "display_data"
    }
   ],
   "source": [
    "rownames(as_tibble(df))"
   ]
  },
  {
   "cell_type": "code",
   "execution_count": 29,
   "id": "40cd80ba",
   "metadata": {},
   "outputs": [
    {
     "name": "stderr",
     "output_type": "stream",
     "text": [
      "Warning message:\n",
      "\"Setting row names on a tibble is deprecated.\"\n"
     ]
    }
   ],
   "source": [
    "# Tibbles do not support row names. They are removed when \n",
    "# converting to a tibble or when subsetting:\n",
    "\n",
    "tbl <- tibble(a = 1:3)\n",
    "rownames(tbl) <- letters[1:3]"
   ]
  },
  {
   "cell_type": "code",
   "execution_count": 30,
   "id": "b357b403",
   "metadata": {},
   "outputs": [
    {
     "data": {
      "text/html": [
       "<style>\n",
       ".list-inline {list-style: none; margin:0; padding: 0}\n",
       ".list-inline>li {display: inline-block}\n",
       ".list-inline>li:not(:last-child)::after {content: \"\\00b7\"; padding: 0 .5ex}\n",
       "</style>\n",
       "<ol class=list-inline><li>'a'</li><li>'b'</li><li>'c'</li></ol>\n"
      ],
      "text/latex": [
       "\\begin{enumerate*}\n",
       "\\item 'a'\n",
       "\\item 'b'\n",
       "\\item 'c'\n",
       "\\end{enumerate*}\n"
      ],
      "text/markdown": [
       "1. 'a'\n",
       "2. 'b'\n",
       "3. 'c'\n",
       "\n",
       "\n"
      ],
      "text/plain": [
       "[1] \"a\" \"b\" \"c\""
      ]
     },
     "metadata": {},
     "output_type": "display_data"
    }
   ],
   "source": [
    "rownames(tbl)"
   ]
  },
  {
   "cell_type": "code",
   "execution_count": 31,
   "id": "bb852899",
   "metadata": {},
   "outputs": [
    {
     "data": {
      "text/html": [
       "'1'"
      ],
      "text/latex": [
       "'1'"
      ],
      "text/markdown": [
       "'1'"
      ],
      "text/plain": [
       "[1] \"1\""
      ]
     },
     "metadata": {},
     "output_type": "display_data"
    }
   ],
   "source": [
    "rownames(tbl[1,])"
   ]
  },
  {
   "cell_type": "markdown",
   "id": "8e23433f",
   "metadata": {},
   "source": [
    "#### Recycling"
   ]
  },
  {
   "cell_type": "code",
   "execution_count": 32,
   "id": "cf869bb9",
   "metadata": {},
   "outputs": [
    {
     "data": {
      "text/html": [
       "<table class=\"dataframe\">\n",
       "<caption>A tibble: 3 × 2</caption>\n",
       "<thead>\n",
       "\t<tr><th scope=col>a</th><th scope=col>b</th></tr>\n",
       "\t<tr><th scope=col>&lt;dbl&gt;</th><th scope=col>&lt;int&gt;</th></tr>\n",
       "</thead>\n",
       "<tbody>\n",
       "\t<tr><td>1</td><td>1</td></tr>\n",
       "\t<tr><td>1</td><td>2</td></tr>\n",
       "\t<tr><td>1</td><td>3</td></tr>\n",
       "</tbody>\n",
       "</table>\n"
      ],
      "text/latex": [
       "A tibble: 3 × 2\n",
       "\\begin{tabular}{ll}\n",
       " a & b\\\\\n",
       " <dbl> & <int>\\\\\n",
       "\\hline\n",
       "\t 1 & 1\\\\\n",
       "\t 1 & 2\\\\\n",
       "\t 1 & 3\\\\\n",
       "\\end{tabular}\n"
      ],
      "text/markdown": [
       "\n",
       "A tibble: 3 × 2\n",
       "\n",
       "| a &lt;dbl&gt; | b &lt;int&gt; |\n",
       "|---|---|\n",
       "| 1 | 1 |\n",
       "| 1 | 2 |\n",
       "| 1 | 3 |\n",
       "\n"
      ],
      "text/plain": [
       "  a b\n",
       "1 1 1\n",
       "2 1 2\n",
       "3 1 3"
      ]
     },
     "metadata": {},
     "output_type": "display_data"
    }
   ],
   "source": [
    "tibble(a = 1, b= 1:3)"
   ]
  },
  {
   "cell_type": "code",
   "execution_count": 33,
   "id": "c7a4442d",
   "metadata": {},
   "outputs": [
    {
     "data": {
      "text/html": [
       "<table class=\"dataframe\">\n",
       "<caption>A tibble: 3 × 2</caption>\n",
       "<thead>\n",
       "\t<tr><th scope=col>a</th><th scope=col>b</th></tr>\n",
       "\t<tr><th scope=col>&lt;int&gt;</th><th scope=col>&lt;dbl&gt;</th></tr>\n",
       "</thead>\n",
       "<tbody>\n",
       "\t<tr><td>1</td><td>1</td></tr>\n",
       "\t<tr><td>2</td><td>1</td></tr>\n",
       "\t<tr><td>3</td><td>1</td></tr>\n",
       "</tbody>\n",
       "</table>\n"
      ],
      "text/latex": [
       "A tibble: 3 × 2\n",
       "\\begin{tabular}{ll}\n",
       " a & b\\\\\n",
       " <int> & <dbl>\\\\\n",
       "\\hline\n",
       "\t 1 & 1\\\\\n",
       "\t 2 & 1\\\\\n",
       "\t 3 & 1\\\\\n",
       "\\end{tabular}\n"
      ],
      "text/markdown": [
       "\n",
       "A tibble: 3 × 2\n",
       "\n",
       "| a &lt;int&gt; | b &lt;dbl&gt; |\n",
       "|---|---|\n",
       "| 1 | 1 |\n",
       "| 2 | 1 |\n",
       "| 3 | 1 |\n",
       "\n"
      ],
      "text/plain": [
       "  a b\n",
       "1 1 1\n",
       "2 2 1\n",
       "3 3 1"
      ]
     },
     "metadata": {},
     "output_type": "display_data"
    }
   ],
   "source": [
    "tibble(a = 1:3, b = 1)"
   ]
  },
  {
   "cell_type": "markdown",
   "id": "f0027d8b",
   "metadata": {},
   "source": [
    "#### Arithmetic operation"
   ]
  },
  {
   "cell_type": "code",
   "execution_count": 38,
   "id": "4fb380bb",
   "metadata": {},
   "outputs": [],
   "source": [
    "tbl <- tibble(a = 1:3, b = 4:6)"
   ]
  },
  {
   "cell_type": "code",
   "execution_count": 39,
   "id": "c405cfd6",
   "metadata": {},
   "outputs": [
    {
     "data": {
      "text/html": [
       "<table class=\"dataframe\">\n",
       "<caption>A data.frame: 3 × 2</caption>\n",
       "<thead>\n",
       "\t<tr><th scope=col>a</th><th scope=col>b</th></tr>\n",
       "\t<tr><th scope=col>&lt;dbl&gt;</th><th scope=col>&lt;dbl&gt;</th></tr>\n",
       "</thead>\n",
       "<tbody>\n",
       "\t<tr><td>2</td><td> 8</td></tr>\n",
       "\t<tr><td>4</td><td>10</td></tr>\n",
       "\t<tr><td>6</td><td>12</td></tr>\n",
       "</tbody>\n",
       "</table>\n"
      ],
      "text/latex": [
       "A data.frame: 3 × 2\n",
       "\\begin{tabular}{ll}\n",
       " a & b\\\\\n",
       " <dbl> & <dbl>\\\\\n",
       "\\hline\n",
       "\t 2 &  8\\\\\n",
       "\t 4 & 10\\\\\n",
       "\t 6 & 12\\\\\n",
       "\\end{tabular}\n"
      ],
      "text/markdown": [
       "\n",
       "A data.frame: 3 × 2\n",
       "\n",
       "| a &lt;dbl&gt; | b &lt;dbl&gt; |\n",
       "|---|---|\n",
       "| 2 |  8 |\n",
       "| 4 | 10 |\n",
       "| 6 | 12 |\n",
       "\n"
      ],
      "text/plain": [
       "  a b \n",
       "1 2  8\n",
       "2 4 10\n",
       "3 6 12"
      ]
     },
     "metadata": {},
     "output_type": "display_data"
    }
   ],
   "source": [
    "tbl * 2"
   ]
  },
  {
   "cell_type": "code",
   "execution_count": null,
   "id": "2c59a279",
   "metadata": {},
   "outputs": [],
   "source": []
  }
 ],
 "metadata": {
  "kernelspec": {
   "display_name": "R",
   "language": "R",
   "name": "ir"
  },
  "language_info": {
   "codemirror_mode": "r",
   "file_extension": ".r",
   "mimetype": "text/x-r-source",
   "name": "R",
   "pygments_lexer": "r",
   "version": "4.2.2"
  }
 },
 "nbformat": 4,
 "nbformat_minor": 5
}
